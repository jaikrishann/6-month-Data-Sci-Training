{
 "cells": [
  {
   "cell_type": "code",
   "execution_count": 1,
   "metadata": {},
   "outputs": [
    {
     "name": "stdout",
     "output_type": "stream",
     "text": [
      "hello \n",
      "how are you \n",
      "\n"
     ]
    }
   ],
   "source": [
    "## read file\n",
    "\n",
    "file = open(\"demo.txt\", \"r\")\n",
    "print(file.read())\n",
    "file.close()"
   ]
  },
  {
   "cell_type": "code",
   "execution_count": null,
   "metadata": {},
   "outputs": [
    {
     "name": "stdout",
     "output_type": "stream",
     "text": [
      "['hello \\n', 'how are you \\n']\n"
     ]
    }
   ],
   "source": [
    "## with statement\n",
    "with open(\"demo.txt\", \"r\") as file:\n",
    "    # print(file.read())\n",
    "    # print(file.readline(3))\n",
    "    # print(file.readlines())"
   ]
  },
  {
   "cell_type": "code",
   "execution_count": 14,
   "metadata": {},
   "outputs": [],
   "source": [
    "with open(\"test.txt\", \"w\") as file:\n",
    "    file.writelines(\"'hello \\n', 'how are you \\n'\")\n"
   ]
  },
  {
   "cell_type": "code",
   "execution_count": 17,
   "metadata": {},
   "outputs": [],
   "source": [
    "with open(\"test.txt\", \"a\") as file:\n",
    "    file.writelines(\"Hello World \\n how are you \\n\")"
   ]
  },
  {
   "cell_type": "code",
   "execution_count": 19,
   "metadata": {},
   "outputs": [
    {
     "name": "stdout",
     "output_type": "stream",
     "text": [
      "ello World \n",
      " how are you \n",
      "Hello World \n",
      " how are you \n",
      "Hello World \n",
      " how are you \n",
      "\n"
     ]
    }
   ],
   "source": [
    "with open(\"test.txt\",\"r+\") as file:\n",
    "    file.write(\"Hello World \\n how are you \\n\")\n",
    "    print(file.read())"
   ]
  },
  {
   "cell_type": "code",
   "execution_count": 21,
   "metadata": {},
   "outputs": [
    {
     "name": "stdout",
     "output_type": "stream",
     "text": [
      "Hello World \n",
      " how are you \n",
      "\n"
     ]
    }
   ],
   "source": [
    "with open(\"test.txt\", \"r+\") as file:\n",
    "    file.write(\"Hello World \\n how are you \\n\")\n",
    "    file.seek(0)  # Move pointer to beginning\n",
    "    print(file.read())  # Read from start\n"
   ]
  },
  {
   "cell_type": "code",
   "execution_count": null,
   "metadata": {},
   "outputs": [],
   "source": []
  },
  {
   "cell_type": "code",
   "execution_count": null,
   "metadata": {},
   "outputs": [],
   "source": []
  },
  {
   "cell_type": "code",
   "execution_count": null,
   "metadata": {},
   "outputs": [],
   "source": []
  },
  {
   "cell_type": "code",
   "execution_count": null,
   "metadata": {},
   "outputs": [],
   "source": []
  }
 ],
 "metadata": {
  "kernelspec": {
   "display_name": "Python 3",
   "language": "python",
   "name": "python3"
  },
  "language_info": {
   "codemirror_mode": {
    "name": "ipython",
    "version": 3
   },
   "file_extension": ".py",
   "mimetype": "text/x-python",
   "name": "python",
   "nbconvert_exporter": "python",
   "pygments_lexer": "ipython3",
   "version": "3.13.1"
  }
 },
 "nbformat": 4,
 "nbformat_minor": 2
}
