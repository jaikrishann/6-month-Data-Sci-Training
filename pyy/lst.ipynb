{
 "cells": [
  {
   "cell_type": "code",
   "execution_count": null,
   "metadata": {},
   "outputs": [],
   "source": [
    "##jupyter notebook -- hardware \n",
    "## google colab --- cloud "
   ]
  },
  {
   "cell_type": "code",
   "execution_count": 3,
   "metadata": {},
   "outputs": [
    {
     "name": "stdout",
     "output_type": "stream",
     "text": [
      "hello\n"
     ]
    }
   ],
   "source": [
    "print(\"hello\")"
   ]
  },
  {
   "cell_type": "markdown",
   "metadata": {},
   "source": [
    "list"
   ]
  },
  {
   "cell_type": "code",
   "execution_count": null,
   "metadata": {},
   "outputs": [],
   "source": [
    "## list -- ordered , mutable(changeable), allow duplicate, multiple data types in a single variable"
   ]
  },
  {
   "cell_type": "code",
   "execution_count": 4,
   "metadata": {},
   "outputs": [
    {
     "name": "stdout",
     "output_type": "stream",
     "text": [
      "[1, 2, 3, True, 22.34, 1, 'hello']\n",
      "<class 'list'>\n"
     ]
    }
   ],
   "source": [
    "lst  = [1,2,3,True,22.34,1,\"hello\"]\n",
    "print(lst)\n",
    "print(type(lst))\n"
   ]
  },
  {
   "cell_type": "code",
   "execution_count": null,
   "metadata": {},
   "outputs": [],
   "source": [
    "##list index based , accesing , slicing "
   ]
  },
  {
   "cell_type": "code",
   "execution_count": null,
   "metadata": {},
   "outputs": [
    {
     "data": {
      "text/plain": [
       "[1, 2, 3, True, 22.34, 1, 'hello']"
      ]
     },
     "execution_count": 11,
     "metadata": {},
     "output_type": "execute_result"
    }
   ],
   "source": [
    "# lst[3]\n",
    "# (start:stop:skip)   --- n, n-1\n",
    "# lst[0:4]\n",
    "# lst[-1]\n",
    "# lst[-4:]\n",
    "# lst[:]\n",
    "\n",
    "\n",
    "\n"
   ]
  },
  {
   "cell_type": "code",
   "execution_count": null,
   "metadata": {},
   "outputs": [
    {
     "name": "stdout",
     "output_type": "stream",
     "text": [
      "['black', 'blue', 'red']\n"
     ]
    }
   ],
   "source": [
    "lst = [\"black\",\"blue\",\"red\"]\n",
    "# lst.append(\"green\")   \n",
    "# lst.clear()                     #clear vs del \n",
    "# del lst\n",
    "# abc=lst.copy()\n",
    "# print(abc)\n",
    "# lst.count(\"r\")\n",
    "# lst.extend([\"red\",\"green\",\"yellow\"])\n",
    "# lst.index(\"red\")\n",
    "# lst.insert(0,\"white\")\n",
    "# lst.pop()\n",
    "# lst.pop(0)\n",
    "# lst.remove(\"red\")\n",
    "# lst.reverse()\n",
    "# lst.sort(reverse=True)\n",
    "print(lst)"
   ]
  },
  {
   "cell_type": "code",
   "execution_count": null,
   "metadata": {},
   "outputs": [],
   "source": []
  },
  {
   "cell_type": "code",
   "execution_count": null,
   "metadata": {},
   "outputs": [],
   "source": []
  },
  {
   "cell_type": "code",
   "execution_count": null,
   "metadata": {},
   "outputs": [],
   "source": []
  }
 ],
 "metadata": {
  "kernelspec": {
   "display_name": "Python 3",
   "language": "python",
   "name": "python3"
  },
  "language_info": {
   "codemirror_mode": {
    "name": "ipython",
    "version": 3
   },
   "file_extension": ".py",
   "mimetype": "text/x-python",
   "name": "python",
   "nbconvert_exporter": "python",
   "pygments_lexer": "ipython3",
   "version": "3.13.1"
  }
 },
 "nbformat": 4,
 "nbformat_minor": 2
}
