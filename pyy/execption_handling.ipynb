{
 "cells": [
  {
   "cell_type": "code",
   "execution_count": null,
   "metadata": {},
   "outputs": [],
   "source": [
    "##errors ko handle karna hai\n",
    "\n",
    "##try, except, else, finally"
   ]
  },
  {
   "cell_type": "code",
   "execution_count": 2,
   "metadata": {},
   "outputs": [
    {
     "name": "stdout",
     "output_type": "stream",
     "text": [
      "10.0\n",
      "No error\n",
      "Finally block\n"
     ]
    }
   ],
   "source": [
    "try:\n",
    "    print(10/1)\n",
    "except Exception as e:\n",
    "    print(e)\n",
    "else:\n",
    "    print(\"No error\")\n",
    "finally:\n",
    "    print(\"Finally block\")"
   ]
  },
  {
   "cell_type": "code",
   "execution_count": 3,
   "metadata": {},
   "outputs": [
    {
     "name": "stdout",
     "output_type": "stream",
     "text": [
      "'name1'\n",
      "Finally block\n"
     ]
    }
   ],
   "source": [
    "try:\n",
    "    dt = {\"name\":\"Ram\",\n",
    "          \"age\":20}\n",
    "    print(dt[\"name1\"])\n",
    "\n",
    "except Exception as e:\n",
    "    print(e)\n",
    "else:\n",
    "    print(\"No error\")\n",
    "finally:\n",
    "    print(\"Finally block\")\n"
   ]
  },
  {
   "cell_type": "code",
   "execution_count": 4,
   "metadata": {},
   "outputs": [
    {
     "name": "stdout",
     "output_type": "stream",
     "text": [
      "Key not found\n",
      "No error\n",
      "Finally block\n"
     ]
    }
   ],
   "source": [
    "dt = {\"name\": \"Ram\", \"age\": 20}\n",
    "\n",
    "try:\n",
    "    print(dt.get(\"name1\", \"Key not found\"))  # Avoids KeyError\n",
    "except Exception as e:\n",
    "    print(e)\n",
    "else:\n",
    "    print(\"No error\")\n",
    "finally:\n",
    "    print(\"Finally block\")\n"
   ]
  },
  {
   "cell_type": "code",
   "execution_count": 5,
   "metadata": {},
   "outputs": [
    {
     "name": "stdout",
     "output_type": "stream",
     "text": [
      "can only concatenate str (not \"int\") to str\n"
     ]
    }
   ],
   "source": [
    "try:\n",
    "    age = 10 \n",
    "    text = \"My age is \" + age\n",
    "    print(text)\n",
    "except Exception as e:\n",
    "    print(e)"
   ]
  },
  {
   "cell_type": "code",
   "execution_count": null,
   "metadata": {},
   "outputs": [],
   "source": []
  }
 ],
 "metadata": {
  "kernelspec": {
   "display_name": "Python 3",
   "language": "python",
   "name": "python3"
  },
  "language_info": {
   "codemirror_mode": {
    "name": "ipython",
    "version": 3
   },
   "file_extension": ".py",
   "mimetype": "text/x-python",
   "name": "python",
   "nbconvert_exporter": "python",
   "pygments_lexer": "ipython3",
   "version": "3.13.1"
  }
 },
 "nbformat": 4,
 "nbformat_minor": 2
}
