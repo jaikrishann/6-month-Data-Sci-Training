{
 "cells": [
  {
   "cell_type": "code",
   "execution_count": null,
   "metadata": {},
   "outputs": [],
   "source": [
    "#execption -- errors\n",
    "##try ,execpt, else, finally \n",
    "\n",
    "## try -- all the code is written in this block \n",
    "##execpt - deals with the error\n",
    "##else -- if error doesn't occur then else block will run \n",
    "##finally -- runs in every case "
   ]
  },
  {
   "cell_type": "code",
   "execution_count": 1,
   "metadata": {},
   "outputs": [
    {
     "name": "stdout",
     "output_type": "stream",
     "text": [
      "division by zero Error: Division by zero is not allowed\n"
     ]
    }
   ],
   "source": [
    "## try block \n",
    "\n",
    "try:\n",
    "    print(10/0)\n",
    "except Exception as e:\n",
    "    print(e,\"Error: Division by zero is not allowed\")\n"
   ]
  },
  {
   "cell_type": "code",
   "execution_count": 6,
   "metadata": {},
   "outputs": [
    {
     "name": "stdout",
     "output_type": "stream",
     "text": [
      "list index out of range\n",
      "Finally block executed\n"
     ]
    }
   ],
   "source": [
    "## try \n",
    "\n",
    "try:\n",
    "    lst = [0,1,2]\n",
    "    print(lst[3])\n",
    "\n",
    "except Exception as e:\n",
    "    print(e)\n",
    "\n",
    "else:\n",
    "    print(\"No error in try block\")\n",
    "\n",
    "finally:\n",
    "    print(\"Finally block executed\")\n",
    "\n"
   ]
  },
  {
   "cell_type": "code",
   "execution_count": 7,
   "metadata": {},
   "outputs": [
    {
     "name": "stdout",
     "output_type": "stream",
     "text": [
      "invalid literal for int() with base 10: 'asdfg'\n"
     ]
    }
   ],
   "source": [
    "try:\n",
    "    num = int(input(\"enter number\"))\n",
    "    print(num)\n",
    "except Exception as e:\n",
    "    print(e)\n"
   ]
  },
  {
   "cell_type": "code",
   "execution_count": null,
   "metadata": {},
   "outputs": [],
   "source": []
  },
  {
   "cell_type": "code",
   "execution_count": null,
   "metadata": {},
   "outputs": [],
   "source": []
  },
  {
   "cell_type": "code",
   "execution_count": null,
   "metadata": {},
   "outputs": [],
   "source": []
  }
 ],
 "metadata": {
  "kernelspec": {
   "display_name": "Python 3",
   "language": "python",
   "name": "python3"
  },
  "language_info": {
   "codemirror_mode": {
    "name": "ipython",
    "version": 3
   },
   "file_extension": ".py",
   "mimetype": "text/x-python",
   "name": "python",
   "nbconvert_exporter": "python",
   "pygments_lexer": "ipython3",
   "version": "3.13.0"
  }
 },
 "nbformat": 4,
 "nbformat_minor": 2
}
