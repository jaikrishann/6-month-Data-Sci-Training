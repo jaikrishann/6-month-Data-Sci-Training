{
 "cells": [
  {
   "cell_type": "code",
   "execution_count": null,
   "metadata": {},
   "outputs": [],
   "source": [
    "##if , if else , else\n",
    "## "
   ]
  },
  {
   "cell_type": "code",
   "execution_count": 3,
   "metadata": {},
   "outputs": [
    {
     "name": "stdout",
     "output_type": "stream",
     "text": [
      "a is greater than b\n"
     ]
    }
   ],
   "source": [
    "a = 50 \n",
    "b = 30 \n",
    "\n",
    "if a > b:\n",
    "    ##inditation\n",
    "    print(\"a is greater than b\") \n",
    "\n",
    "\n"
   ]
  },
  {
   "cell_type": "code",
   "execution_count": 7,
   "metadata": {},
   "outputs": [
    {
     "name": "stdout",
     "output_type": "stream",
     "text": [
      "a and b are equal\n"
     ]
    }
   ],
   "source": [
    "##elif\n",
    "\n",
    "a = 20 \n",
    "b = 20 \n",
    "\n",
    "if a > b:\n",
    "    print(\"a is greater than b\")\n",
    "\n",
    "elif a < b:\n",
    "    print(\"b is greater than a\")\n",
    "    ##else \n",
    "\n",
    "else:\n",
    "    print(\"a and b are equal\")"
   ]
  },
  {
   "cell_type": "code",
   "execution_count": 15,
   "metadata": {},
   "outputs": [
    {
     "name": "stdout",
     "output_type": "stream",
     "text": [
      "2345678\n",
      "<class 'int'>\n"
     ]
    }
   ],
   "source": [
    "a = int(input(\"enter charcter\"))\n",
    "# b = input(\"enter charcter\")\n",
    "print(a)\n",
    "print(type(a))\n"
   ]
  },
  {
   "cell_type": "code",
   "execution_count": 16,
   "metadata": {},
   "outputs": [
    {
     "name": "stdout",
     "output_type": "stream",
     "text": [
      "b is greater than a\n"
     ]
    }
   ],
   "source": [
    "a = int(input(\"number 1\"))\n",
    "b = int(input(\"number 2\"))\n",
    "\n",
    "if a > b:\n",
    "    print(\"a is greater than b\")\n",
    "\n",
    "elif a < b:\n",
    "    print(\"b is greater than a\")\n",
    "\n",
    "else:\n",
    "    print(\"a and b are equal\")"
   ]
  },
  {
   "cell_type": "code",
   "execution_count": null,
   "metadata": {},
   "outputs": [],
   "source": [
    "a = int(input(\"number 1\"))\n",
    "b = int(input(\"number 2\"))\n",
    "# c = int(input(\"number 3\"))\n",
    "\n",
    "if a > b:\n",
    "    pass       #pass statement \n",
    "\n",
    "\n",
    "    "
   ]
  },
  {
   "cell_type": "code",
   "execution_count": 20,
   "metadata": {},
   "outputs": [
    {
     "name": "stdout",
     "output_type": "stream",
     "text": [
      "a is even\n"
     ]
    }
   ],
   "source": [
    "## even and odd \n",
    "\n",
    "a = 10\n",
    "\n",
    "if a % 2 == 0:\n",
    "    print(\"a is even\")\n"
   ]
  },
  {
   "cell_type": "code",
   "execution_count": 2,
   "metadata": {},
   "outputs": [
    {
     "name": "stdout",
     "output_type": "stream",
     "text": [
      "MOHIT is not in the list\n"
     ]
    }
   ],
   "source": [
    "student_name_ls  = ['RAHUL','MOHIT','ROCKY','MADHU','JYOTI','KAREENA']\n",
    "\n",
    "if 'RAM' in student_name_ls:\n",
    "    print(\"MOHIT is in the list\")\n",
    "else:\n",
    "    print(\"MOHIT is not in the list\")"
   ]
  },
  {
   "cell_type": "code",
   "execution_count": 4,
   "metadata": {},
   "outputs": [
    {
     "name": "stdout",
     "output_type": "stream",
     "text": [
      "True\n"
     ]
    }
   ],
   "source": [
    "num1 = 20 \n",
    "num2 = 20.0\n",
    "\n",
    "# print(num1 == num2)\n",
    "print(num1 is not num2)\n"
   ]
  },
  {
   "cell_type": "code",
   "execution_count": null,
   "metadata": {},
   "outputs": [],
   "source": []
  }
 ],
 "metadata": {
  "kernelspec": {
   "display_name": "Python 3",
   "language": "python",
   "name": "python3"
  },
  "language_info": {
   "codemirror_mode": {
    "name": "ipython",
    "version": 3
   },
   "file_extension": ".py",
   "mimetype": "text/x-python",
   "name": "python",
   "nbconvert_exporter": "python",
   "pygments_lexer": "ipython3",
   "version": "3.13.0"
  }
 },
 "nbformat": 4,
 "nbformat_minor": 2
}
