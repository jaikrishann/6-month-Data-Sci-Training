{
 "cells": [
  {
   "cell_type": "code",
   "execution_count": null,
   "metadata": {},
   "outputs": [],
   "source": [
    "##dict -- ordered, duplicates are not allowed , chnageable \n",
    "## key:value pairs"
   ]
  },
  {
   "cell_type": "code",
   "execution_count": 1,
   "metadata": {},
   "outputs": [
    {
     "name": "stdout",
     "output_type": "stream",
     "text": [
      "{'name': 'John', 'age': 30, 'city': 'New York'}\n",
      "<class 'dict'>\n"
     ]
    }
   ],
   "source": [
    "dt = {\n",
    "    'name': 'John',\n",
    "    'age': 30,\n",
    "    'city': 'New York'\n",
    "}\n",
    "\n",
    "print(dt)\n",
    "print(type(dt))"
   ]
  },
  {
   "cell_type": "code",
   "execution_count": 2,
   "metadata": {},
   "outputs": [
    {
     "name": "stdout",
     "output_type": "stream",
     "text": [
      "{'name': ['John', 'jai', 'mohan'], 'age': 30, 'city': 'New York'}\n"
     ]
    }
   ],
   "source": [
    "dt = {\n",
    "    'name': ['John', 'jai', \"mohan\"],\n",
    "    'age': 30,\n",
    "    'city': 'New York'\n",
    "}\n",
    "\n",
    "print(dt)"
   ]
  },
  {
   "cell_type": "code",
   "execution_count": null,
   "metadata": {},
   "outputs": [
    {
     "data": {
      "text/plain": [
       "{'name': {'subname': 'John'}, 'age': 30, 'city': 'delhi'}"
      ]
     },
     "execution_count": 6,
     "metadata": {},
     "output_type": "execute_result"
    }
   ],
   "source": [
    "dt = {\n",
    "    'name': {\"subname\" : 'John'},\n",
    "    'age': 30,\n",
    "    'city': 'New York',\n",
    "    'city' : \"jaipur\",\n",
    "    \"city\": \"delhi\"             #\n",
    "}\n",
    "dt\n"
   ]
  },
  {
   "cell_type": "code",
   "execution_count": 30,
   "metadata": {},
   "outputs": [
    {
     "name": "stdout",
     "output_type": "stream",
     "text": [
      "{'name': 'jai', 'age': 13, 'city': 'jaipur'}\n",
      "<class 'dict'>\n"
     ]
    }
   ],
   "source": [
    "##one more way of creating dict ===>> dictionary constructor\n",
    "\n",
    "dt = dict(name = \"jai\", age = 13, city = \"jaipur\")\n",
    "\n",
    "print(dt)\n",
    "print(type(dt))"
   ]
  },
  {
   "cell_type": "code",
   "execution_count": 32,
   "metadata": {},
   "outputs": [
    {
     "data": {
      "text/plain": [
       "{'name': ['John', ['rohan', 'shyam'], 'mohan'], 'age': 30, 'city': 'New York'}"
      ]
     },
     "execution_count": 32,
     "metadata": {},
     "output_type": "execute_result"
    }
   ],
   "source": [
    "dt = {\n",
    "    'name': ['John', 'jai', \"mohan\"],\n",
    "    'age': 30,\n",
    "    'city': 'New York'\n",
    "}\n",
    "\n",
    "# print(dt[\"name\"])\n",
    "# print(dt[\"age\"])\n",
    "# dt['age'] = 40\n",
    "dt[\"name\"][1] = [\"rohan\",\"shyam\"]\n",
    "dt\n"
   ]
  },
  {
   "cell_type": "code",
   "execution_count": 25,
   "metadata": {},
   "outputs": [
    {
     "data": {
      "text/plain": [
       "[10, 20, [30, 40, [50, 600], 70], 80]"
      ]
     },
     "execution_count": 25,
     "metadata": {},
     "output_type": "execute_result"
    }
   ],
   "source": [
    "lst = [10,20,[30,40,[50,60],70],80]\n",
    "lst[2][2][1] = 600\n",
    "lst"
   ]
  },
  {
   "cell_type": "code",
   "execution_count": null,
   "metadata": {},
   "outputs": [
    {
     "data": {
      "text/plain": [
       "{'name': 'John', 'age': 30, 'city': 'New York', 'class': 1, 'colour': None}"
      ]
     },
     "execution_count": 57,
     "metadata": {},
     "output_type": "execute_result"
    }
   ],
   "source": [
    "dt = {\n",
    "    'name': 'John',\n",
    "    'age': 30,\n",
    "    'city': 'New York',\n",
    "    \"class\" : 1\n",
    "}\n",
    "\n",
    "# dt.get(\"age\")\n",
    "# dt.items()\n",
    "# dt.keys()\n",
    "# dt.values()\n",
    "# dt.pop(\"class\")\n",
    "# dt.popitem()\n",
    "# dt.update({'colours': \"red\"})\n",
    "# dt.update({\"class\":3})\n",
    "# dt.setdefault(\"colour\", \"green\")                            ##case 1 \n",
    "# dt.setdefault(\"class\", 22)                                  ##case 2 -- agar key present hai toh koi bhi chnages nahi honge\n",
    "# dt.setdefault(\"colour\")                                     ##case 3\n",
    "# dt.setdefault(key,value)\n",
    "dt"
   ]
  },
  {
   "cell_type": "code",
   "execution_count": null,
   "metadata": {},
   "outputs": [],
   "source": []
  },
  {
   "cell_type": "code",
   "execution_count": null,
   "metadata": {},
   "outputs": [],
   "source": []
  },
  {
   "cell_type": "code",
   "execution_count": null,
   "metadata": {},
   "outputs": [],
   "source": []
  },
  {
   "cell_type": "code",
   "execution_count": null,
   "metadata": {},
   "outputs": [],
   "source": []
  },
  {
   "cell_type": "code",
   "execution_count": null,
   "metadata": {},
   "outputs": [],
   "source": []
  }
 ],
 "metadata": {
  "kernelspec": {
   "display_name": "Python 3",
   "language": "python",
   "name": "python3"
  },
  "language_info": {
   "codemirror_mode": {
    "name": "ipython",
    "version": 3
   },
   "file_extension": ".py",
   "mimetype": "text/x-python",
   "name": "python",
   "nbconvert_exporter": "python",
   "pygments_lexer": "ipython3",
   "version": "3.13.0"
  }
 },
 "nbformat": 4,
 "nbformat_minor": 2
}
