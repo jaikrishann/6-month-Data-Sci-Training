{
 "cells": [
  {
   "cell_type": "code",
   "execution_count": null,
   "metadata": {},
   "outputs": [],
   "source": [
    "##list == ordered , changeable(mutable), duplicate values can be stored , \n"
   ]
  },
  {
   "cell_type": "code",
   "execution_count": 2,
   "metadata": {},
   "outputs": [
    {
     "name": "stdout",
     "output_type": "stream",
     "text": [
      "[1, 2, 'hello', True, 22.34, 'hello']\n",
      "<class 'list'>\n"
     ]
    }
   ],
   "source": [
    "ls = [1,2,\"hello\",True,22.34,\"hello\"]\n",
    "\n",
    "print(ls)\n",
    "print(type(ls))"
   ]
  },
  {
   "cell_type": "code",
   "execution_count": 8,
   "metadata": {},
   "outputs": [
    {
     "name": "stdout",
     "output_type": "stream",
     "text": [
      "['hello', 'world', 'hello', 'world']\n"
     ]
    }
   ],
   "source": [
    "lst1 = [\"hello\",\"world\"]\n",
    "lst2 = [\"bye\",\"world\"]\n",
    "\n",
    "# print(lst1 + lst2)\n",
    "print(lst1 * 2)"
   ]
  },
  {
   "cell_type": "code",
   "execution_count": null,
   "metadata": {},
   "outputs": [
    {
     "name": "stdout",
     "output_type": "stream",
     "text": [
      "['blue', 'black', 'red', 'orange', 'papaya', 'apple']\n"
     ]
    }
   ],
   "source": [
    "lst = [\"apple\",\"papaya\",\"orange\",\"red\",\"black\",\"blue\"]\n",
    "#accessing \n",
    "#[access] --[start point: end point : skip point]\n",
    "# print(lst[-1:-3])\n",
    "# print(lst[-3:-1])\n",
    "# print(lst[:3])\n",
    "# print(lst[::3])\n",
    "## how to reverse a list \n",
    "# print(lst[::-1])\n"
   ]
  },
  {
   "cell_type": "code",
   "execution_count": 34,
   "metadata": {},
   "outputs": [
    {
     "name": "stdout",
     "output_type": "stream",
     "text": [
      "6\n"
     ]
    }
   ],
   "source": [
    "lst = [\"apple\",\"papaya\",\"orange\",\"red\",\"black\",\"blue\",]\n",
    "\n",
    "print(len(lst))\n",
    "# lst[1] = \"green\"\n",
    "# lst[0:2] = [\"green\",\"pink\"]\n",
    "# lst[0:2] = [\"green\"]\n",
    "# lst[0:1] = [\"green\",\"pink\"]\n",
    "# lst\n",
    "# print(lst)\n"
   ]
  },
  {
   "cell_type": "code",
   "execution_count": 63,
   "metadata": {},
   "outputs": [
    {
     "ename": "TypeError",
     "evalue": "'<' not supported between instances of 'int' and 'str'",
     "output_type": "error",
     "traceback": [
      "\u001b[1;31m---------------------------------------------------------------------------\u001b[0m",
      "\u001b[1;31mTypeError\u001b[0m                                 Traceback (most recent call last)",
      "Cell \u001b[1;32mIn[63], line 17\u001b[0m\n\u001b[0;32m      2\u001b[0m lst1 \u001b[38;5;241m=\u001b[39m [\u001b[38;5;124m'\u001b[39m\u001b[38;5;124mjai\u001b[39m\u001b[38;5;124m'\u001b[39m,\u001b[38;5;124m\"\u001b[39m\u001b[38;5;124mupflairs\u001b[39m\u001b[38;5;124m\"\u001b[39m]\n\u001b[0;32m      4\u001b[0m \u001b[38;5;66;03m# lst.append(\"kiwi\") \u001b[39;00m\n\u001b[0;32m      5\u001b[0m \u001b[38;5;66;03m# lst.clear() ## \u001b[39;00m\n\u001b[0;32m      6\u001b[0m \n\u001b[1;32m   (...)\u001b[0m\n\u001b[0;32m     15\u001b[0m \u001b[38;5;66;03m# lst.reverse()\u001b[39;00m\n\u001b[0;32m     16\u001b[0m \u001b[38;5;66;03m# lst.sort() ##ascending order -- default is ascending\u001b[39;00m\n\u001b[1;32m---> 17\u001b[0m \u001b[43mlst\u001b[49m\u001b[38;5;241;43m.\u001b[39;49m\u001b[43msort\u001b[49m\u001b[43m(\u001b[49m\u001b[43m)\u001b[49m\n\u001b[0;32m     19\u001b[0m lst\n\u001b[0;32m     21\u001b[0m \u001b[38;5;66;03m# lst\u001b[39;00m\n",
      "\u001b[1;31mTypeError\u001b[0m: '<' not supported between instances of 'int' and 'str'"
     ]
    }
   ],
   "source": [
    "lst = [\"Apple\",\"Red\",\"apple\",\"papaya\",\"orange\",\"red\",\"black\",\"blue\",\"apple\",1]\n",
    "lst1 = ['jai',\"upflairs\"]\n",
    "\n",
    "# lst.append(\"kiwi\") \n",
    "# lst.clear() ## \n",
    "\n",
    "# lst1=lst.copy()\n",
    "# x = lst.count(\"apple\")\n",
    "# lst.extend(lst1)\n",
    "# print(lst.index(\"red\"))\n",
    "# lst.insert(0,\"maroon\")\n",
    "# lst.pop(0)\n",
    "# lst.pop()\n",
    "# lst.remove(\"apple\") \n",
    "# lst.reverse()\n",
    "# lst.sort() ##ascending order -- default is ascending\n",
    "lst.sort()\n",
    "\n",
    "lst\n",
    "\n",
    "# lst\n"
   ]
  },
  {
   "cell_type": "code",
   "execution_count": null,
   "metadata": {},
   "outputs": [],
   "source": []
  }
 ],
 "metadata": {
  "kernelspec": {
   "display_name": "Python 3",
   "language": "python",
   "name": "python3"
  },
  "language_info": {
   "codemirror_mode": {
    "name": "ipython",
    "version": 3
   },
   "file_extension": ".py",
   "mimetype": "text/x-python",
   "name": "python",
   "nbconvert_exporter": "python",
   "pygments_lexer": "ipython3",
   "version": "3.12.4"
  }
 },
 "nbformat": 4,
 "nbformat_minor": 2
}
