{
 "cells": [
  {
   "cell_type": "code",
   "execution_count": null,
   "metadata": {},
   "outputs": [],
   "source": [
    "##modules -- \n",
    "# In Python, modules are files containing Python \n",
    "# code (functions, classes, and variables) that can \n",
    "# be reused in different programs. A module is simply a file with \n",
    "# the .py extension. Modules help organize code and promote reusability."
   ]
  },
  {
   "cell_type": "code",
   "execution_count": null,
   "metadata": {},
   "outputs": [],
   "source": [
    "##there are 3 types of modules \n",
    "# 1. Built-in modules -- math,os,datetime,random\n",
    "# 2. user-defined modules\n",
    "# 3. third-party modules -- made by python community which can be installed\n",
    "# using pip(PYTHON PACKAGE MANAGER) -- numpy,pandas,matplotlib,seaborn"
   ]
  },
  {
   "cell_type": "code",
   "execution_count": null,
   "metadata": {},
   "outputs": [],
   "source": [
    "##modules // library\n",
    "\n",
    "##modules--\n",
    "#1- single .py file \n",
    "#2 - smallest unit of organization\n",
    "#3 - can only perform particulat task \n",
    "\n",
    "##library--\n",
    "#1 - collection of modules\n",
    "#2 - can perform multiple tasks\n",
    "## numpy , pandas \n"
   ]
  },
  {
   "cell_type": "code",
   "execution_count": 2,
   "metadata": {},
   "outputs": [],
   "source": [
    "#os - operating system -- module -- built-in module\n",
    "\n",
    "import os #importing os module\n"
   ]
  },
  {
   "cell_type": "code",
   "execution_count": 3,
   "metadata": {},
   "outputs": [
    {
     "name": "stdout",
     "output_type": "stream",
     "text": [
      "c:\\Users\\jaikr\\OneDrive\\Desktop\\6-month-Data-Sci-Training\\python\n"
     ]
    }
   ],
   "source": [
    "current_dir=os.getcwd() #getcwd() -- get current working directory\n",
    "\n",
    "print(current_dir) #print current directory"
   ]
  },
  {
   "cell_type": "code",
   "execution_count": null,
   "metadata": {},
   "outputs": [],
   "source": [
    "ch = os.chdir(r\"c:\\Users\\jaikr\\OneDrive\\Desktop\\6-month-Data-Sci-Training\\python\\sample\") #chdir() -- change directory\n",
    "\n"
   ]
  },
  {
   "cell_type": "code",
   "execution_count": 6,
   "metadata": {},
   "outputs": [
    {
     "name": "stdout",
     "output_type": "stream",
     "text": [
      "c:\\Users\\jaikr\\OneDrive\\Desktop\\6-month-Data-Sci-Training\\python\\sample\n"
     ]
    }
   ],
   "source": [
    "print(os.getcwd()) #print current directory"
   ]
  },
  {
   "cell_type": "code",
   "execution_count": 7,
   "metadata": {},
   "outputs": [],
   "source": [
    "ch = os.chdir(r\"c:\\Users\\jaikr\\OneDrive\\Desktop\\6-month-Data-Sci-Training\\python\")"
   ]
  },
  {
   "cell_type": "code",
   "execution_count": 8,
   "metadata": {},
   "outputs": [
    {
     "name": "stdout",
     "output_type": "stream",
     "text": [
      "c:\\Users\\jaikr\\OneDrive\\Desktop\\6-month-Data-Sci-Training\\python\n"
     ]
    }
   ],
   "source": [
    "print(os.getcwd()) #print current directory"
   ]
  },
  {
   "cell_type": "code",
   "execution_count": 9,
   "metadata": {},
   "outputs": [
    {
     "name": "stdout",
     "output_type": "stream",
     "text": [
      "['demo.txt', 'dict.ipynb', 'exechandling.ipynb', 'filehandling.ipynb', 'forloop.ipynb', 'functions.ipynb', 'ifelse.ipynb', 'lst.ipynb', 'merged.txt', 'modules.ipynb', 'sample', 'set.ipynb', 'str.py', 'test.txt', 'tuple.ipynb', 'variables.py', 'whileloop.ipynb']\n"
     ]
    }
   ],
   "source": [
    "contents = os.listdir()\n",
    "\n",
    "print(contents) #print contents of current directory"
   ]
  },
  {
   "cell_type": "code",
   "execution_count": 10,
   "metadata": {},
   "outputs": [],
   "source": [
    "os.mkdir(\"MACHINE\")"
   ]
  },
  {
   "cell_type": "code",
   "execution_count": 11,
   "metadata": {},
   "outputs": [],
   "source": [
    "os.rmdir(\"MACHINE\")"
   ]
  },
  {
   "cell_type": "code",
   "execution_count": 13,
   "metadata": {},
   "outputs": [],
   "source": [
    "os.remove(\"test.txt\")"
   ]
  },
  {
   "cell_type": "code",
   "execution_count": null,
   "metadata": {},
   "outputs": [],
   "source": [
    "os."
   ]
  },
  {
   "cell_type": "code",
   "execution_count": null,
   "metadata": {},
   "outputs": [],
   "source": []
  },
  {
   "cell_type": "code",
   "execution_count": null,
   "metadata": {},
   "outputs": [],
   "source": []
  },
  {
   "cell_type": "code",
   "execution_count": null,
   "metadata": {},
   "outputs": [],
   "source": []
  },
  {
   "cell_type": "code",
   "execution_count": null,
   "metadata": {},
   "outputs": [],
   "source": []
  },
  {
   "cell_type": "code",
   "execution_count": null,
   "metadata": {},
   "outputs": [],
   "source": []
  },
  {
   "cell_type": "code",
   "execution_count": null,
   "metadata": {},
   "outputs": [],
   "source": []
  }
 ],
 "metadata": {
  "kernelspec": {
   "display_name": "Python 3",
   "language": "python",
   "name": "python3"
  },
  "language_info": {
   "codemirror_mode": {
    "name": "ipython",
    "version": 3
   },
   "file_extension": ".py",
   "mimetype": "text/x-python",
   "name": "python",
   "nbconvert_exporter": "python",
   "pygments_lexer": "ipython3",
   "version": "3.13.0"
  }
 },
 "nbformat": 4,
 "nbformat_minor": 2
}
