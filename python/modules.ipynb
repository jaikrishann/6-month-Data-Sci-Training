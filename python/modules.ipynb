{
 "cells": [
  {
   "cell_type": "code",
   "execution_count": null,
   "metadata": {},
   "outputs": [],
   "source": [
    "##modules -- \n",
    "# In Python, modules are files containing Python \n",
    "# code (functions, classes, and variables) that can \n",
    "# be reused in different programs. A module is simply a file with \n",
    "# the .py extension. Modules help organize code and promote reusability."
   ]
  },
  {
   "cell_type": "code",
   "execution_count": null,
   "metadata": {},
   "outputs": [],
   "source": [
    "##there are 3 types of modules \n",
    "# 1. Built-in modules -- math,os,datetime,random\n",
    "# 2. user-defined modules\n",
    "# 3. third-party modules -- made by python community which can be installed\n",
    "# using pip(PYTHON PACKAGE MANAGER) -- numpy,pandas,matplotlib,seaborn"
   ]
  },
  {
   "cell_type": "code",
   "execution_count": null,
   "metadata": {},
   "outputs": [],
   "source": [
    "##modules // library\n",
    "\n",
    "##modules--\n",
    "#1- single .py file \n",
    "#2 - smallest unit of organization\n",
    "#3 - can only perform particulat task \n",
    "\n",
    "##library--\n",
    "#1 - collection of modules\n",
    "#2 - can perform multiple tasks\n",
    "## numpy , pandas \n"
   ]
  },
  {
   "cell_type": "code",
   "execution_count": 2,
   "metadata": {},
   "outputs": [],
   "source": [
    "#os - operating system -- module -- built-in module\n",
    "\n",
    "import os #importing os module\n"
   ]
  },
  {
   "cell_type": "code",
   "execution_count": 3,
   "metadata": {},
   "outputs": [
    {
     "name": "stdout",
     "output_type": "stream",
     "text": [
      "c:\\Users\\jaikr\\OneDrive\\Desktop\\6-month-Data-Sci-Training\\python\n"
     ]
    }
   ],
   "source": [
    "current_dir=os.getcwd() #getcwd() -- get current working directory\n",
    "\n",
    "print(current_dir) #print current directory"
   ]
  },
  {
   "cell_type": "code",
   "execution_count": null,
   "metadata": {},
   "outputs": [],
   "source": [
    "ch = os.chdir(r\"c:\\Users\\jaikr\\OneDrive\\Desktop\\6-month-Data-Sci-Training\\python\\sample\") #chdir() -- change directory\n",
    "\n"
   ]
  },
  {
   "cell_type": "code",
   "execution_count": 6,
   "metadata": {},
   "outputs": [
    {
     "name": "stdout",
     "output_type": "stream",
     "text": [
      "c:\\Users\\jaikr\\OneDrive\\Desktop\\6-month-Data-Sci-Training\\python\\sample\n"
     ]
    }
   ],
   "source": [
    "print(os.getcwd()) #print current directory"
   ]
  },
  {
   "cell_type": "code",
   "execution_count": 7,
   "metadata": {},
   "outputs": [],
   "source": [
    "ch = os.chdir(r\"c:\\Users\\jaikr\\OneDrive\\Desktop\\6-month-Data-Sci-Training\\python\")"
   ]
  },
  {
   "cell_type": "code",
   "execution_count": 8,
   "metadata": {},
   "outputs": [
    {
     "name": "stdout",
     "output_type": "stream",
     "text": [
      "c:\\Users\\jaikr\\OneDrive\\Desktop\\6-month-Data-Sci-Training\\python\n"
     ]
    }
   ],
   "source": [
    "print(os.getcwd()) #print current directory"
   ]
  },
  {
   "cell_type": "code",
   "execution_count": 9,
   "metadata": {},
   "outputs": [
    {
     "name": "stdout",
     "output_type": "stream",
     "text": [
      "['demo.txt', 'dict.ipynb', 'exechandling.ipynb', 'filehandling.ipynb', 'forloop.ipynb', 'functions.ipynb', 'ifelse.ipynb', 'lst.ipynb', 'merged.txt', 'modules.ipynb', 'sample', 'set.ipynb', 'str.py', 'test.txt', 'tuple.ipynb', 'variables.py', 'whileloop.ipynb']\n"
     ]
    }
   ],
   "source": [
    "contents = os.listdir()\n",
    "\n",
    "print(contents) #print contents of current directory"
   ]
  },
  {
   "cell_type": "code",
   "execution_count": 10,
   "metadata": {},
   "outputs": [],
   "source": [
    "os.mkdir(\"MACHINE\")"
   ]
  },
  {
   "cell_type": "code",
   "execution_count": 11,
   "metadata": {},
   "outputs": [],
   "source": [
    "os.rmdir(\"MACHINE\")"
   ]
  },
  {
   "cell_type": "code",
   "execution_count": 13,
   "metadata": {},
   "outputs": [],
   "source": [
    "os.remove(\"test.txt\")"
   ]
  },
  {
   "cell_type": "code",
   "execution_count": null,
   "metadata": {},
   "outputs": [],
   "source": [
    "##create nested directories\n",
    "os.makedirs(\"parent/child/grandchild\")\n",
    "# os.removedirs"
   ]
  },
  {
   "cell_type": "code",
   "execution_count": null,
   "metadata": {},
   "outputs": [],
   "source": [
    "print(os.path.exists(\"file_or_directory_name\"))"
   ]
  },
  {
   "cell_type": "code",
   "execution_count": 4,
   "metadata": {},
   "outputs": [],
   "source": [
    "import math"
   ]
  },
  {
   "cell_type": "code",
   "execution_count": 8,
   "metadata": {},
   "outputs": [
    {
     "name": "stdout",
     "output_type": "stream",
     "text": [
      "3.141592653589793\n",
      "2.718281828459045\n",
      "inf\n",
      "nan\n"
     ]
    }
   ],
   "source": [
    "print(math.pi)\n",
    "print(math.e)\n",
    "print(math.inf)\n",
    "print(math.nan)"
   ]
  },
  {
   "cell_type": "code",
   "execution_count": 13,
   "metadata": {},
   "outputs": [
    {
     "name": "stdout",
     "output_type": "stream",
     "text": [
      "5.196152422706632\n",
      "27.0\n",
      "120\n",
      "10.5\n"
     ]
    }
   ],
   "source": [
    "print(math.sqrt(27))\n",
    "print(math.pow(3,3))\n",
    "print(math.factorial(5))\n",
    "print(math.fabs(-10.5))"
   ]
  },
  {
   "cell_type": "code",
   "execution_count": 16,
   "metadata": {},
   "outputs": [
    {
     "name": "stdout",
     "output_type": "stream",
     "text": [
      "180.0\n",
      "3.141592653589793\n"
     ]
    }
   ],
   "source": [
    "# \n",
    "# print(math.sin())\n",
    "# print(math.cos())\n",
    "# print(math.tan())\n",
    "# print(math.asin())\n",
    "# print(math.acos())\n",
    "# print(math.atan())\n",
    "\n",
    "\n",
    "print(math.degrees(math.pi))\n",
    "print(math.radians(180))\n",
    "\n",
    "\n"
   ]
  },
  {
   "cell_type": "code",
   "execution_count": 18,
   "metadata": {},
   "outputs": [
    {
     "name": "stdout",
     "output_type": "stream",
     "text": [
      "2.995732273553991\n",
      "2.0\n"
     ]
    }
   ],
   "source": [
    "print(math.log(20))\n",
    "print(math.log(100,10))\n"
   ]
  },
  {
   "cell_type": "code",
   "execution_count": 22,
   "metadata": {},
   "outputs": [
    {
     "name": "stdout",
     "output_type": "stream",
     "text": [
      "4\n",
      "5\n",
      "5\n",
      "4\n"
     ]
    }
   ],
   "source": [
    "print(math.floor(4.7))\n",
    "print(math.ceil(4.7))\n",
    "print(round(4.7))\n",
    "print(math.trunc(4.7))"
   ]
  },
  {
   "cell_type": "code",
   "execution_count": 26,
   "metadata": {},
   "outputs": [],
   "source": [
    "from datetime import datetime,time,date\n",
    "\n",
    "\n"
   ]
  },
  {
   "cell_type": "code",
   "execution_count": 30,
   "metadata": {},
   "outputs": [
    {
     "name": "stdout",
     "output_type": "stream",
     "text": [
      "2024-12-25 14:37:18.848106\n",
      "2024\n",
      "12\n",
      "25\n"
     ]
    }
   ],
   "source": [
    "n = datetime.now()\n",
    "print(n)\n",
    "\n",
    "print(n.year)\n",
    "print(n.month)\n",
    "print(n.day)"
   ]
  },
  {
   "cell_type": "code",
   "execution_count": 31,
   "metadata": {},
   "outputs": [
    {
     "data": {
      "text/plain": [
       "datetime.datetime(2024, 12, 25, 14, 37, 45, 361060)"
      ]
     },
     "execution_count": 31,
     "metadata": {},
     "output_type": "execute_result"
    }
   ],
   "source": [
    "datetime.now()"
   ]
  },
  {
   "cell_type": "code",
   "execution_count": 33,
   "metadata": {},
   "outputs": [
    {
     "name": "stdout",
     "output_type": "stream",
     "text": [
      "2024-12-28 12:37:45.361060\n"
     ]
    }
   ],
   "source": [
    "custom = datetime(2024, 12, 28, 12, 37, 45, 361060)\n",
    "print(custom)"
   ]
  },
  {
   "cell_type": "code",
   "execution_count": 36,
   "metadata": {},
   "outputs": [
    {
     "name": "stdout",
     "output_type": "stream",
     "text": [
      "2025-01-04 14:42:54.878869\n",
      "2024-12-15 14:42:54.878869\n",
      "34 days, 20:00:00\n"
     ]
    }
   ],
   "source": [
    "from datetime import datetime, timedelta\n",
    "\n",
    "# Add or subtract days\n",
    "today = datetime.now()\n",
    "future = today + timedelta(days=10)\n",
    "past = today - timedelta(days=10)\n",
    "print(future)  # Output: 10 days in the future\n",
    "print(past)    # Output: 10 days in the past\n",
    "\n",
    "# Difference between two dates\n",
    "date1 = datetime(2024, 12, 25,4)\n",
    "date2 = datetime(2024, 11, 20,8)\n",
    "difference = date1 - date2\n",
    "print(difference)  # Output: 5 days, 0:00:00\n"
   ]
  },
  {
   "cell_type": "code",
   "execution_count": 37,
   "metadata": {},
   "outputs": [
    {
     "name": "stdout",
     "output_type": "stream",
     "text": [
      "23\n"
     ]
    }
   ],
   "source": [
    "from datetime import datetime\n",
    "##calculate age\n",
    "birth_date = datetime(2001, 9, 27)\n",
    "today = datetime.now()\n",
    "age = today.year - birth_date.year\n",
    "if (today.month, today.day) < (birth_date.month, birth_date.day):\n",
    "    age -= 1\n",
    "print(age)  # Output: Age in years\n"
   ]
  },
  {
   "cell_type": "code",
   "execution_count": null,
   "metadata": {},
   "outputs": [],
   "source": [
    "# datetime.date: Represents dates (year, month, day).\n",
    "# datetime.time: Represents time (hour, minute, second, microsecond).\n",
    "# datetime.datetime: Combines date and time.\n",
    "# datetime.timedelta: Represents time intervals\n",
    "# (differences between two dates/times).\n",
    "# datetime.tzinfo: Provides timezone information (used with datetime).\n"
   ]
  },
  {
   "cell_type": "code",
   "execution_count": null,
   "metadata": {},
   "outputs": [],
   "source": [
    "##re -- regular expression\n",
    "#Regular expressions are patterns that help you match,\n",
    "#  search, and manipulate strings."
   ]
  },
  {
   "cell_type": "code",
   "execution_count": null,
   "metadata": {},
   "outputs": [],
   "source": [
    "# re.match(): Matches a pattern at the beginning of the string.\n",
    "# re.search(): Searches for the first occurrence of a pattern\n",
    "#  anywhere in the string.\n",
    "# re.findall(): Returns all occurrences of a pattern as a list.\n",
    "# re.finditer(): Returns an iterator yielding match objects for all matches.\n",
    "# re.split(): Splits a string based on a pattern.\n",
    "# re.sub(): Substitutes occurrences of a pattern with a replacement string.\n",
    "# re.compile(): Compiles a pattern for reuse."
   ]
  },
  {
   "cell_type": "code",
   "execution_count": 38,
   "metadata": {},
   "outputs": [],
   "source": [
    "import re"
   ]
  },
  {
   "cell_type": "code",
   "execution_count": 40,
   "metadata": {},
   "outputs": [
    {
     "name": "stdout",
     "output_type": "stream",
     "text": [
      "Match not found\n"
     ]
    }
   ],
   "source": [
    "text = \"hello world\"\n",
    "\n",
    "result = re.match(r\"world\",text)\n",
    "\n",
    "if result:\n",
    "    print(\"Match found\")\n",
    "else:\n",
    "    print(\"Match not found\")"
   ]
  },
  {
   "cell_type": "code",
   "execution_count": 41,
   "metadata": {},
   "outputs": [
    {
     "name": "stdout",
     "output_type": "stream",
     "text": [
      "Match found\n"
     ]
    }
   ],
   "source": [
    "text = \"hello world\"\n",
    "\n",
    "result = re.search(r\"world\",text)\n",
    "\n",
    "if result:\n",
    "    print(\"Match found\")\n",
    "else:\n",
    "    print(\"Match not found\")"
   ]
  },
  {
   "cell_type": "code",
   "execution_count": null,
   "metadata": {},
   "outputs": [],
   "source": [
    "text = \"123 hello 456 world 789\""
   ]
  },
  {
   "cell_type": "code",
   "execution_count": null,
   "metadata": {},
   "outputs": [],
   "source": []
  },
  {
   "cell_type": "code",
   "execution_count": null,
   "metadata": {},
   "outputs": [],
   "source": []
  },
  {
   "cell_type": "code",
   "execution_count": null,
   "metadata": {},
   "outputs": [],
   "source": []
  }
 ],
 "metadata": {
  "kernelspec": {
   "display_name": "Python 3",
   "language": "python",
   "name": "python3"
  },
  "language_info": {
   "codemirror_mode": {
    "name": "ipython",
    "version": 3
   },
   "file_extension": ".py",
   "mimetype": "text/x-python",
   "name": "python",
   "nbconvert_exporter": "python",
   "pygments_lexer": "ipython3",
   "version": "3.13.0"
  }
 },
 "nbformat": 4,
 "nbformat_minor": 2
}
