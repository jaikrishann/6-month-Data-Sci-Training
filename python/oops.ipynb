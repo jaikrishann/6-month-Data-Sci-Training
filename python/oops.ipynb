{
 "cells": [
  {
   "cell_type": "code",
   "execution_count": null,
   "metadata": {},
   "outputs": [],
   "source": [
    "##oops-- obejct oriented programming language\n",
    "### class\n",
    "#object \n",
    "#inhertiance\n",
    "#encapsulation\n",
    "#polymorphism\n",
    "#abstraction"
   ]
  },
  {
   "cell_type": "code",
   "execution_count": null,
   "metadata": {},
   "outputs": [],
   "source": [
    "\n",
    "# Class = Blueprint (e.g., defines the properties and\n",
    "#  behavior of objects).\n",
    "# Object = An instance of a class.3 things -- properties, behavior, identity\n",
    "# Method = A function defined in a class.\n",
    "# Instance = A specific object made using the class."
   ]
  },
  {
   "cell_type": "code",
   "execution_count": 9,
   "metadata": {},
   "outputs": [
    {
     "data": {
      "text/plain": [
       "'tiger'"
      ]
     },
     "execution_count": 9,
     "metadata": {},
     "output_type": "execute_result"
    }
   ],
   "source": [
    "class animal:\n",
    "    ##class variables\n",
    "    name = \"elephant\"\n",
    "    color = \"grey\"\n",
    "    weight = 2000\n",
    "\n",
    "    ##class methods\n",
    "    def display(self):\n",
    "        print(\"Name of animal is \",self.name)\n",
    "        print(\"Color of animal is \",self.color)\n",
    "        print(\"Weight of animal is \",self.weight)\n",
    "\n",
    "##creating object of class\n",
    "\n",
    "obj = animal()\n",
    "obj.name = \"tiger\"\n",
    "obj.name\n",
    "# obj.color\n",
    "# obj.display()"
   ]
  },
  {
   "cell_type": "code",
   "execution_count": 22,
   "metadata": {},
   "outputs": [],
   "source": [
    "## __init__ -- constructor - initialize variables -- magic keyword \n",
    "\n",
    "class Animal:\n",
    "    def __init__(self,name, color, weight):\n",
    "        self.name = name\n",
    "        self.color = color\n",
    "        self.weight = weight\n",
    "\n",
    "    def display(self):\n",
    "        print(\"Name of animal is \",self.name)\n",
    "        print(\"Color of animal is \",self.color)\n",
    "        print(\"Weight of animal is \",self.weight)\n",
    "\n"
   ]
  },
  {
   "cell_type": "code",
   "execution_count": 25,
   "metadata": {},
   "outputs": [
    {
     "name": "stdout",
     "output_type": "stream",
     "text": [
      "Name of animal is  tiger\n",
      "Color of animal is  yellow\n",
      "Weight of animal is  200\n",
      "Name of animal is  elephant\n",
      "Color of animal is  grey\n",
      "Weight of animal is  2000\n"
     ]
    }
   ],
   "source": [
    "obj = Animal(\"tiger\",\"yellow\",200)\n",
    "obj.display()\n",
    "\n",
    "obj1 = Animal(\"elephant\",\"grey\",2000)\n",
    "obj1.display()"
   ]
  },
  {
   "cell_type": "code",
   "execution_count": null,
   "metadata": {},
   "outputs": [],
   "source": [
    "##inheritance -- \n",
    "# property and method\n",
    "# single level inheritance -- one parent and one child\n",
    "# multiple -- multiple parent and one child\n",
    "# multilevel -- A class inherits from a class that itself inherits \n",
    "# from another class.\n",
    "# hierarchical -- Multiple child classes inherit from the same parent class\n",
    "\n",
    "# hybrid -- A combination of two or more types of inheritance."
   ]
  },
  {
   "cell_type": "code",
   "execution_count": 1,
   "metadata": {},
   "outputs": [],
   "source": [
    "## single level inheritance\n",
    "\n",
    "class Parent:\n",
    "    def greet(self):\n",
    "        print(\"Hello from parent\")\n",
    "\n",
    "\n",
    "\n",
    "class Child(Parent):\n",
    "    def greet_child(self):\n",
    "        print(\"Hello from child\")"
   ]
  },
  {
   "cell_type": "code",
   "execution_count": 4,
   "metadata": {},
   "outputs": [
    {
     "name": "stdout",
     "output_type": "stream",
     "text": [
      "Hello from parent\n",
      "Hello from child\n"
     ]
    }
   ],
   "source": [
    "child_obj = Child()\n",
    "child_obj.greet()\n",
    "child_obj.greet_child()\n"
   ]
  },
  {
   "cell_type": "code",
   "execution_count": 5,
   "metadata": {},
   "outputs": [],
   "source": [
    "class Employee:\n",
    "    def __init__(self, name, salary):\n",
    "        self.name = name\n",
    "        self.salary = salary\n",
    "\n",
    "    def show_details(self):\n",
    "        print(\"Name of employee is \",self.name)\n",
    "        print(\"Salary of employee is \",self.salary)\n",
    "\n",
    "\n",
    "class Developer(Employee):\n",
    "    def assign_task(self, task):\n",
    "        print(\"Task assigned to \",self.name, \" is \", task)"
   ]
  },
  {
   "cell_type": "code",
   "execution_count": 7,
   "metadata": {},
   "outputs": [
    {
     "name": "stdout",
     "output_type": "stream",
     "text": [
      "Name of employee is  mohan\n",
      "Salary of employee is  50000\n",
      "Task assigned to  mohan  is  developing a website\n"
     ]
    }
   ],
   "source": [
    "dev_obj = Developer(\"mohan\", 50000)\n",
    "dev_obj.show_details()\n",
    "dev_obj.assign_task(\"developing a website\")"
   ]
  },
  {
   "cell_type": "code",
   "execution_count": 8,
   "metadata": {},
   "outputs": [],
   "source": [
    "##multiple inheritance\n",
    "\n",
    "class Parent1:\n",
    "    def greet(self):\n",
    "        print(\"Hello from parent1\")\n",
    "\n",
    "class Parent2:\n",
    "    def greet2(self):\n",
    "        print(\"Hello from parent2\")\n",
    "\n",
    "class Child(Parent1, Parent2,):\n",
    "    def greet_child(self):\n",
    "        print(\"Hello from child\")"
   ]
  },
  {
   "cell_type": "code",
   "execution_count": 9,
   "metadata": {},
   "outputs": [
    {
     "name": "stdout",
     "output_type": "stream",
     "text": [
      "Hello from parent1\n",
      "Hello from parent2\n"
     ]
    }
   ],
   "source": [
    "obj_child = Child()\n",
    "obj_child.greet()\n",
    "obj_child.greet2()"
   ]
  },
  {
   "cell_type": "code",
   "execution_count": 10,
   "metadata": {},
   "outputs": [],
   "source": [
    "class grandparent:\n",
    "    def greet(self):\n",
    "        print(\"Hello from grandparent\")\n",
    "        \n",
    "class Parent1(grandparent):\n",
    "    def greet(self):\n",
    "        print(\"Hello from parent1\")\n",
    "\n",
    "class Parent2(Parent1):\n",
    "    def greet(self):\n",
    "        print(\"Hello from parent2\")"
   ]
  },
  {
   "cell_type": "code",
   "execution_count": 11,
   "metadata": {},
   "outputs": [],
   "source": [
    "#hybrid inheritance\n",
    "class Parent1:\n",
    "    def greet(self):\n",
    "        print(\"Hello from parent1\")\n",
    "\n",
    "class child1(Parent1):\n",
    "    def greet_child(self):\n",
    "        print(\"Hello from child1\")\n",
    "\n",
    "class child2(Parent1):\n",
    "    def greet_child(self):\n",
    "        print(\"Hello from child2\")"
   ]
  },
  {
   "cell_type": "code",
   "execution_count": null,
   "metadata": {},
   "outputs": [],
   "source": []
  }
 ],
 "metadata": {
  "kernelspec": {
   "display_name": "Python 3",
   "language": "python",
   "name": "python3"
  },
  "language_info": {
   "codemirror_mode": {
    "name": "ipython",
    "version": 3
   },
   "file_extension": ".py",
   "mimetype": "text/x-python",
   "name": "python",
   "nbconvert_exporter": "python",
   "pygments_lexer": "ipython3",
   "version": "3.13.0"
  }
 },
 "nbformat": 4,
 "nbformat_minor": 2
}
