{
 "cells": [
  {
   "cell_type": "code",
   "execution_count": null,
   "metadata": {},
   "outputs": [],
   "source": [
    "##oops-- obejct oriented programming language\n",
    "### class\n",
    "#object \n",
    "#inhertiance\n",
    "#encapsulation\n",
    "#polymorphism\n",
    "#abstraction"
   ]
  },
  {
   "cell_type": "code",
   "execution_count": null,
   "metadata": {},
   "outputs": [],
   "source": [
    "\n",
    "# Class = Blueprint (e.g., defines the properties and\n",
    "#  behavior of objects).\n",
    "# Object = An instance of a class.3 things -- properties, behavior, identity\n",
    "# Method = A function defined in a class.\n",
    "# Instance = A specific object made using the class."
   ]
  },
  {
   "cell_type": "code",
   "execution_count": 9,
   "metadata": {},
   "outputs": [
    {
     "data": {
      "text/plain": [
       "'tiger'"
      ]
     },
     "execution_count": 9,
     "metadata": {},
     "output_type": "execute_result"
    }
   ],
   "source": [
    "class animal:\n",
    "    ##class variables\n",
    "    name = \"elephant\"\n",
    "    color = \"grey\"\n",
    "    weight = 2000\n",
    "\n",
    "    ##class methods\n",
    "    def display(self):\n",
    "        print(\"Name of animal is \",self.name)\n",
    "        print(\"Color of animal is \",self.color)\n",
    "        print(\"Weight of animal is \",self.weight)\n",
    "\n",
    "##creating object of class\n",
    "\n",
    "obj = animal()\n",
    "obj.name = \"tiger\"\n",
    "obj.name\n",
    "# obj.color\n",
    "# obj.display()"
   ]
  },
  {
   "cell_type": "code",
   "execution_count": 22,
   "metadata": {},
   "outputs": [],
   "source": [
    "## __init__ -- constructor - initialize variables -- magic keyword \n",
    "\n",
    "class Animal:\n",
    "    def __init__(self,name, color, weight):\n",
    "        self.name = name\n",
    "        self.color = color\n",
    "        self.weight = weight\n",
    "\n",
    "    def display(self):\n",
    "        print(\"Name of animal is \",self.name)\n",
    "        print(\"Color of animal is \",self.color)\n",
    "        print(\"Weight of animal is \",self.weight)\n",
    "\n"
   ]
  },
  {
   "cell_type": "code",
   "execution_count": 25,
   "metadata": {},
   "outputs": [
    {
     "name": "stdout",
     "output_type": "stream",
     "text": [
      "Name of animal is  tiger\n",
      "Color of animal is  yellow\n",
      "Weight of animal is  200\n",
      "Name of animal is  elephant\n",
      "Color of animal is  grey\n",
      "Weight of animal is  2000\n"
     ]
    }
   ],
   "source": [
    "obj = Animal(\"tiger\",\"yellow\",200)\n",
    "obj.display()\n",
    "\n",
    "obj1 = Animal(\"elephant\",\"grey\",2000)\n",
    "obj1.display()"
   ]
  },
  {
   "cell_type": "code",
   "execution_count": null,
   "metadata": {},
   "outputs": [],
   "source": [
    "##inheritance -- \n",
    "# property and method\n",
    "# single level inheritance -- one parent and one child\n",
    "# multiple -- multiple parent and one child\n",
    "# multilevel -- A class inherits from a class that itself inherits \n",
    "# from another class.\n",
    "# hierarchical -- Multiple child classes inherit from the same parent class\n",
    "\n",
    "# hybrid -- A combination of two or more types of inheritance."
   ]
  },
  {
   "cell_type": "code",
   "execution_count": 1,
   "metadata": {},
   "outputs": [],
   "source": [
    "## single level inheritance\n",
    "\n",
    "class Parent:\n",
    "    def greet(self):\n",
    "        print(\"Hello from parent\")\n",
    "\n",
    "\n",
    "\n",
    "class Child(Parent):\n",
    "    def greet_child(self):\n",
    "        print(\"Hello from child\")"
   ]
  },
  {
   "cell_type": "code",
   "execution_count": 4,
   "metadata": {},
   "outputs": [
    {
     "name": "stdout",
     "output_type": "stream",
     "text": [
      "Hello from parent\n",
      "Hello from child\n"
     ]
    }
   ],
   "source": [
    "child_obj = Child()\n",
    "child_obj.greet()\n",
    "child_obj.greet_child()\n"
   ]
  },
  {
   "cell_type": "code",
   "execution_count": 5,
   "metadata": {},
   "outputs": [],
   "source": [
    "class Employee:\n",
    "    def __init__(self, name, salary):\n",
    "        self.name = name\n",
    "        self.salary = salary\n",
    "\n",
    "    def show_details(self):\n",
    "        print(\"Name of employee is \",self.name)\n",
    "        print(\"Salary of employee is \",self.salary)\n",
    "\n",
    "\n",
    "class Developer(Employee):\n",
    "    def assign_task(self, task):\n",
    "        print(\"Task assigned to \",self.name, \" is \", task)"
   ]
  },
  {
   "cell_type": "code",
   "execution_count": 7,
   "metadata": {},
   "outputs": [
    {
     "name": "stdout",
     "output_type": "stream",
     "text": [
      "Name of employee is  mohan\n",
      "Salary of employee is  50000\n",
      "Task assigned to  mohan  is  developing a website\n"
     ]
    }
   ],
   "source": [
    "dev_obj = Developer(\"mohan\", 50000)\n",
    "dev_obj.show_details()\n",
    "dev_obj.assign_task(\"developing a website\")"
   ]
  },
  {
   "cell_type": "code",
   "execution_count": 8,
   "metadata": {},
   "outputs": [],
   "source": [
    "##multiple inheritance\n",
    "\n",
    "class Parent1:\n",
    "    def greet(self):\n",
    "        print(\"Hello from parent1\")\n",
    "\n",
    "class Parent2:\n",
    "    def greet2(self):\n",
    "        print(\"Hello from parent2\")\n",
    "\n",
    "class Child(Parent1, Parent2,):\n",
    "    def greet_child(self):\n",
    "        print(\"Hello from child\")"
   ]
  },
  {
   "cell_type": "code",
   "execution_count": 9,
   "metadata": {},
   "outputs": [
    {
     "name": "stdout",
     "output_type": "stream",
     "text": [
      "Hello from parent1\n",
      "Hello from parent2\n"
     ]
    }
   ],
   "source": [
    "obj_child = Child()\n",
    "obj_child.greet()\n",
    "obj_child.greet2()"
   ]
  },
  {
   "cell_type": "code",
   "execution_count": 10,
   "metadata": {},
   "outputs": [],
   "source": [
    "class grandparent:\n",
    "    def greet(self):\n",
    "        print(\"Hello from grandparent\")\n",
    "        \n",
    "class Parent1(grandparent):\n",
    "    def greet(self):\n",
    "        print(\"Hello from parent1\")\n",
    "\n",
    "class Parent2(Parent1):\n",
    "    def greet(self):\n",
    "        print(\"Hello from parent2\")"
   ]
  },
  {
   "cell_type": "code",
   "execution_count": 11,
   "metadata": {},
   "outputs": [],
   "source": [
    "#hybrid inheritance\n",
    "class Parent1:\n",
    "    def greet(self):\n",
    "        print(\"Hello from parent1\")\n",
    "\n",
    "class child1(Parent1):\n",
    "    def greet_child(self):\n",
    "        print(\"Hello from child1\")\n",
    "\n",
    "class child2(Parent1):\n",
    "    def greet_child(self):\n",
    "        print(\"Hello from child2\")"
   ]
  },
  {
   "cell_type": "code",
   "execution_count": null,
   "metadata": {},
   "outputs": [],
   "source": [
    "## encapsulation -- data hiding\n",
    "\n",
    "# In Python, encapsulation \n",
    "# is used to restrict direct access to some of an object's components.\n",
    "# This prevents the accidental modification of data.\n",
    "# Encapsulation is a way to protect the data in a class by\n",
    "#  making the variables private and providing public methods \n",
    "# to access and modify the data.\n",
    "##public , private , protected"
   ]
  },
  {
   "cell_type": "code",
   "execution_count": null,
   "metadata": {},
   "outputs": [],
   "source": [
    "## public \n",
    "# Attributes and methods that are accessible from anywhere.\n",
    "# Defined with no underscores."
   ]
  },
  {
   "cell_type": "code",
   "execution_count": null,
   "metadata": {},
   "outputs": [],
   "source": [
    "#protected\n",
    "# Attributes and methods that should not \n",
    "# be accessed directly outside the class, but can be accessed by subclasses.\n",
    "# Defined with a single underscore prefix (_)."
   ]
  },
  {
   "cell_type": "code",
   "execution_count": 3,
   "metadata": {},
   "outputs": [
    {
     "name": "stdout",
     "output_type": "stream",
     "text": [
      "audi\n"
     ]
    }
   ],
   "source": [
    "class car:\n",
    "    def __init__(self, model, color, price):\n",
    "        self._model = model\n",
    "        self._color = color\n",
    "        self._price = price\n",
    "\n",
    "    def display(self):\n",
    "        print(\"Model of car is \",self._model)\n",
    "        print(\"Color of car is \",self._color)\n",
    "        print(\"Price of car is \",self._price)\n",
    "\n",
    "\n",
    "\n",
    "obj = car(\"audi\",\"black\",5000000)\n",
    "# print(obj.display())\n",
    "print(obj._model)\n"
   ]
  },
  {
   "cell_type": "code",
   "execution_count": null,
   "metadata": {},
   "outputs": [],
   "source": [
    "# ##private\n",
    "# Attributes and methods that are only accessible within the class.\n",
    "# Defined with a double underscore prefix (__)."
   ]
  },
  {
   "cell_type": "code",
   "execution_count": 5,
   "metadata": {},
   "outputs": [
    {
     "ename": "AttributeError",
     "evalue": "'Car' object has no attribute '__model'",
     "output_type": "error",
     "traceback": [
      "\u001b[1;31m---------------------------------------------------------------------------\u001b[0m",
      "\u001b[1;31mAttributeError\u001b[0m                            Traceback (most recent call last)",
      "Cell \u001b[1;32mIn[5], line 10\u001b[0m\n\u001b[0;32m      7\u001b[0m         \u001b[38;5;28;01mreturn\u001b[39;00m \u001b[38;5;124mf\u001b[39m\u001b[38;5;124m\"\u001b[39m\u001b[38;5;124mCar: \u001b[39m\u001b[38;5;132;01m{\u001b[39;00m\u001b[38;5;28mself\u001b[39m\u001b[38;5;241m.\u001b[39m__brand\u001b[38;5;132;01m}\u001b[39;00m\u001b[38;5;124m \u001b[39m\u001b[38;5;132;01m{\u001b[39;00m\u001b[38;5;28mself\u001b[39m\u001b[38;5;241m.\u001b[39m__model\u001b[38;5;132;01m}\u001b[39;00m\u001b[38;5;124m\"\u001b[39m\n\u001b[0;32m      9\u001b[0m car \u001b[38;5;241m=\u001b[39m Car(\u001b[38;5;124m\"\u001b[39m\u001b[38;5;124mToyota\u001b[39m\u001b[38;5;124m\"\u001b[39m, \u001b[38;5;124m\"\u001b[39m\u001b[38;5;124mCorolla\u001b[39m\u001b[38;5;124m\"\u001b[39m)\n\u001b[1;32m---> 10\u001b[0m \u001b[43mcar\u001b[49m\u001b[38;5;241;43m.\u001b[39;49m\u001b[43m__model\u001b[49m\n\u001b[0;32m     11\u001b[0m \u001b[38;5;66;03m# print(car.__brand)  # AttributeError: 'Car' object has no attribute '__brand'\u001b[39;00m\n\u001b[0;32m     12\u001b[0m \u001b[38;5;66;03m# print(car._Car__brand)  # Accessing private attribute using name mangling\u001b[39;00m\n",
      "\u001b[1;31mAttributeError\u001b[0m: 'Car' object has no attribute '__model'"
     ]
    }
   ],
   "source": [
    "class Car:\n",
    "    def __init__(self, brand, model):\n",
    "        self.__brand = brand  # private attribute\n",
    "        self.__model = model  # private attribute\n",
    "\n",
    "    def display_info(self):\n",
    "        return f\"Car: {self.__brand} {self.__model}\"\n",
    "\n",
    "car = Car(\"Toyota\", \"Corolla\")\n",
    "car.__model\n",
    "# print(car.__brand)  # AttributeError: 'Car' object has no attribute '__brand'\n",
    "# print(car._Car__brand)  # Accessing private attribute using name mangling\n"
   ]
  },
  {
   "cell_type": "code",
   "execution_count": null,
   "metadata": {},
   "outputs": [],
   "source": [
    "## polymorphism -- many forms\n",
    "# Polymorphism is the ability of an object to take on many forms."
   ]
  },
  {
   "cell_type": "code",
   "execution_count": 10,
   "metadata": {},
   "outputs": [
    {
     "name": "stdout",
     "output_type": "stream",
     "text": [
      "Bird is chirping\n",
      "Dog is barking\n",
      "cat is meowing\n"
     ]
    }
   ],
   "source": [
    "class Bird:\n",
    "    def sound(self):\n",
    "        print(\"Bird is chirping\")\n",
    "\n",
    "class Dog:\n",
    "    def sound(self):\n",
    "        print(\"Dog is barking\")\n",
    "\n",
    "class Cat:\n",
    "    def sound(self):\n",
    "        print(\"cat is meowing\")\n",
    "\n",
    "def animal_sound(animal):\n",
    "    animal.sound()\n",
    "\n",
    "\n",
    "bird = Bird()\n",
    "dog = Dog()\n",
    "cat = Cat()\n",
    "\n",
    "animal_sound(bird)\n",
    "animal_sound(dog)\n",
    "animal_sound(cat)"
   ]
  },
  {
   "cell_type": "code",
   "execution_count": 13,
   "metadata": {},
   "outputs": [],
   "source": [
    "class Circle:\n",
    "    def __init__(self, radius):\n",
    "        self.radius = radius\n",
    "\n",
    "    def area(self):\n",
    "        return 3.14 * self.radius * self.radius\n",
    "    \n",
    "class Rectangle:\n",
    "    def __init__(self, length, breadth):\n",
    "        self.length = length\n",
    "        self.breadth = breadth\n",
    "\n",
    "    def area(self):\n",
    "        return self.length * self.breadth\n",
    "    \n",
    "def  print_area(shape):\n",
    "     shape.area()\n",
    "\n",
    "\n",
    "circle = Circle(7)\n",
    "rectangle = Rectangle(5, 10)\n",
    "\n",
    "print_area(circle)\n",
    "print_area(rectangle)"
   ]
  },
  {
   "cell_type": "code",
   "execution_count": 14,
   "metadata": {},
   "outputs": [
    {
     "ename": "NameError",
     "evalue": "name '__doc' is not defined",
     "output_type": "error",
     "traceback": [
      "\u001b[1;31m---------------------------------------------------------------------------\u001b[0m",
      "\u001b[1;31mNameError\u001b[0m                                 Traceback (most recent call last)",
      "Cell \u001b[1;32mIn[14], line 7\u001b[0m\n\u001b[0;32m      1\u001b[0m \u001b[38;5;66;03m##abstraction \u001b[39;00m\n\u001b[0;32m      2\u001b[0m \u001b[38;5;66;03m# Abstraction is the process of hiding the real \u001b[39;00m\n\u001b[0;32m      3\u001b[0m \u001b[38;5;66;03m# implementation of an application\u001b[39;00m\n\u001b[0;32m      5\u001b[0m \u001b[38;5;28;01mfrom\u001b[39;00m \u001b[38;5;21;01mabc\u001b[39;00m \u001b[38;5;28;01mimport\u001b[39;00m ABC, abstractmethod\n\u001b[1;32m----> 7\u001b[0m \u001b[43m__doc\u001b[49m(\u001b[38;5;28mprint\u001b[39m)\n",
      "\u001b[1;31mNameError\u001b[0m: name '__doc' is not defined"
     ]
    }
   ],
   "source": [
    "##abstraction \n",
    "# Abstraction is the process of hiding the real \n",
    "# implementation of an application\n",
    "\n",
    "from abc import ABC, abstractmethod\n",
    "\n",
    "print\n",
    "\n"
   ]
  },
  {
   "cell_type": "code",
   "execution_count": null,
   "metadata": {},
   "outputs": [],
   "source": []
  },
  {
   "cell_type": "code",
   "execution_count": null,
   "metadata": {},
   "outputs": [],
   "source": []
  },
  {
   "cell_type": "code",
   "execution_count": null,
   "metadata": {},
   "outputs": [],
   "source": []
  },
  {
   "cell_type": "code",
   "execution_count": null,
   "metadata": {},
   "outputs": [],
   "source": []
  }
 ],
 "metadata": {
  "kernelspec": {
   "display_name": "Python 3",
   "language": "python",
   "name": "python3"
  },
  "language_info": {
   "codemirror_mode": {
    "name": "ipython",
    "version": 3
   },
   "file_extension": ".py",
   "mimetype": "text/x-python",
   "name": "python",
   "nbconvert_exporter": "python",
   "pygments_lexer": "ipython3",
   "version": "3.13.0"
  }
 },
 "nbformat": 4,
 "nbformat_minor": 2
}
