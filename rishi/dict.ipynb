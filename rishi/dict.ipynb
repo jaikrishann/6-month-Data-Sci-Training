{
 "cells": [
  {
   "cell_type": "code",
   "execution_count": null,
   "metadata": {},
   "outputs": [],
   "source": [
    "##dict-- key value pair, \n",
    "# ordered*, changeable and do not allow duplicates\n"
   ]
  },
  {
   "cell_type": "code",
   "execution_count": 5,
   "metadata": {},
   "outputs": [
    {
     "name": "stdout",
     "output_type": "stream",
     "text": [
      "{'name': ['Rahul', 'Raj', 'Ravi'], 'age': 25, 'city': 'Bangalore', 'state': 'jaipur'}\n",
      "<class 'dict'>\n"
     ]
    }
   ],
   "source": [
    "dt = {\n",
    "    \"name\" : [\"Rahul\", \"Raj\", \"Ravi\"],\n",
    "    \"age\" : 25,\n",
    "    \"city\" : \"Bangalore\",\n",
    "    \"state\" : \"Karnataka\",\n",
    "    \"state\" : \"jaipur\"\n",
    "}\n",
    "print(dt)\n",
    "print(type(dt))"
   ]
  },
  {
   "cell_type": "code",
   "execution_count": 4,
   "metadata": {},
   "outputs": [
    {
     "name": "stdout",
     "output_type": "stream",
     "text": [
      "{'name': 'Rishikesh', 'age': 25, 'city': 'Bangalore', 'state': 'jaipur'}\n"
     ]
    }
   ],
   "source": [
    "dt[\"name\"] = \"Rishikesh\"\n",
    "print(dt)"
   ]
  },
  {
   "cell_type": "code",
   "execution_count": null,
   "metadata": {},
   "outputs": [
    {
     "name": "stdout",
     "output_type": "stream",
     "text": [
      "{'age': 15, 'city': 'Bangalore', 'name': 'Rahul'}\n"
     ]
    }
   ],
   "source": [
    "dt.get(\"name\")\n",
    "dt.items()\n",
    "dt.keys()\n",
    "dt.values()\n",
    "# dt.pop(\"name\")\n",
    "# dt.popitem()\n",
    "# dt.update({\"name\" : \"Rahul\", \"age\" : 15})\n",
    "\n",
    "print(dt)"
   ]
  },
  {
   "cell_type": "code",
   "execution_count": 14,
   "metadata": {},
   "outputs": [
    {
     "name": "stdout",
     "output_type": "stream",
     "text": [
      "{'key1': 0, 'key2': 0, 'key3': 0}\n"
     ]
    }
   ],
   "source": [
    "##formkeys \n",
    "x = (\"key1\", \"key2\", \"key3\")\n",
    "y = 0\n",
    "dt1 = dict.fromkeys(x, y)\n",
    "print(dt1)"
   ]
  },
  {
   "cell_type": "code",
   "execution_count": null,
   "metadata": {},
   "outputs": [],
   "source": []
  },
  {
   "cell_type": "code",
   "execution_count": null,
   "metadata": {},
   "outputs": [],
   "source": []
  },
  {
   "cell_type": "code",
   "execution_count": null,
   "metadata": {},
   "outputs": [],
   "source": []
  },
  {
   "cell_type": "code",
   "execution_count": null,
   "metadata": {},
   "outputs": [],
   "source": []
  },
  {
   "cell_type": "code",
   "execution_count": null,
   "metadata": {},
   "outputs": [],
   "source": []
  },
  {
   "cell_type": "code",
   "execution_count": null,
   "metadata": {},
   "outputs": [],
   "source": []
  }
 ],
 "metadata": {
  "kernelspec": {
   "display_name": "Python 3",
   "language": "python",
   "name": "python3"
  },
  "language_info": {
   "codemirror_mode": {
    "name": "ipython",
    "version": 3
   },
   "file_extension": ".py",
   "mimetype": "text/x-python",
   "name": "python",
   "nbconvert_exporter": "python",
   "pygments_lexer": "ipython3",
   "version": "3.11.9"
  }
 },
 "nbformat": 4,
 "nbformat_minor": 2
}
