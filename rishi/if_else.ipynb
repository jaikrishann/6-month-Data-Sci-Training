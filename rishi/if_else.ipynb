{
 "cells": [
  {
   "cell_type": "code",
   "execution_count": null,
   "metadata": {},
   "outputs": [],
   "source": [
    "##conditional statements -- conditions -- if elif else statements"
   ]
  },
  {
   "cell_type": "code",
   "execution_count": 3,
   "metadata": {},
   "outputs": [
    {
     "name": "stdout",
     "output_type": "stream",
     "text": [
      "hello\n"
     ]
    }
   ],
   "source": [
    "##if statement\n",
    "a = 10 \n",
    "b = 20 \n",
    "\n",
    "if a<b:\n",
    "    print(\"hello\")\n",
    "\n",
    "    #indentation -- part syntax \n"
   ]
  },
  {
   "cell_type": "code",
   "execution_count": 7,
   "metadata": {},
   "outputs": [
    {
     "name": "stdout",
     "output_type": "stream",
     "text": [
      "a is equal to b\n"
     ]
    }
   ],
   "source": [
    "a = 30 \n",
    "b = 30 \n",
    "if b<a: \n",
    "    print(\"b is greater then a\")\n",
    "elif a==b:\n",
    "    print(\"a is equal to b\")\n",
    "else:\n",
    "    print(\"a is greater then b\")"
   ]
  },
  {
   "cell_type": "code",
   "execution_count": 8,
   "metadata": {},
   "outputs": [
    {
     "name": "stdout",
     "output_type": "stream",
     "text": [
      "a is even\n"
     ]
    }
   ],
   "source": [
    "a = 30 \n",
    "if a%2==0:\n",
    "    print(\"a is even\")\n",
    "else:\n",
    "    print(\"a is odd\")"
   ]
  },
  {
   "cell_type": "code",
   "execution_count": null,
   "metadata": {},
   "outputs": [
    {
     "name": "stdout",
     "output_type": "stream",
     "text": [
      "<class 'int'>\n",
      "3456789\n"
     ]
    }
   ],
   "source": [
    "##input function \n",
    "a = int(input(\"enter a number\"))\n",
    "print(type(a))\n",
    "print(a)a"
   ]
  },
  {
   "cell_type": "code",
   "execution_count": null,
   "metadata": {},
   "outputs": [],
   "source": [
    "##type casting --- conversion of one data type to another data type"
   ]
  },
  {
   "cell_type": "code",
   "execution_count": 14,
   "metadata": {},
   "outputs": [
    {
     "name": "stdout",
     "output_type": "stream",
     "text": [
      "<class 'int'>\n",
      "<class 'str'>\n"
     ]
    }
   ],
   "source": [
    "a = 10 \n",
    "print(type(a))\n",
    "\n",
    "b = str(a)\n",
    "print(type(b))"
   ]
  },
  {
   "cell_type": "code",
   "execution_count": null,
   "metadata": {},
   "outputs": [
    {
     "name": "stdout",
     "output_type": "stream",
     "text": [
      "x is less then 10\n"
     ]
    }
   ],
   "source": [
    "##nested if statements -- if ke ander if \n",
    "x = 0  \n",
    "if x >10:\n",
    "    if x%2==0:\n",
    "        print(\"x is greater then 10 and x is even\")\n",
    "    else:\n",
    "        print(\"x is greater then 10 but x is odd\")\n",
    "\n",
    "else:\n",
    "    print(\"x is less then 10\")\n",
    "\n",
    "    "
   ]
  },
  {
   "cell_type": "code",
   "execution_count": 23,
   "metadata": {},
   "outputs": [
    {
     "name": "stdout",
     "output_type": "stream",
     "text": [
      "b is not greater then a or b is not even\n"
     ]
    }
   ],
   "source": [
    "##and or not\n",
    "a = 10 \n",
    "b = 50\n",
    "if not(b>a and b%2==0):                  \n",
    "    print(\"b is greater then a and b is even\")\n",
    "else:\n",
    "    print(\"b is not greater then a or b is not even\")"
   ]
  },
  {
   "cell_type": "code",
   "execution_count": 24,
   "metadata": {},
   "outputs": [
    {
     "name": "stdout",
     "output_type": "stream",
     "text": [
      "a is less then b\n"
     ]
    }
   ],
   "source": [
    "##short hand if statements -- single line if statements\n",
    "a = 10 \n",
    "b = 20\n",
    "if a<b: print(\"a is less then b\")\n"
   ]
  },
  {
   "cell_type": "code",
   "execution_count": 27,
   "metadata": {},
   "outputs": [
    {
     "name": "stdout",
     "output_type": "stream",
     "text": [
      "a is greater then b\n"
     ]
    }
   ],
   "source": [
    "##short hand if else statements -- single line if else statements\n",
    "a = 60 \n",
    "b = 20\n",
    "print(\"a is less then b\") if a<b else print(\"a is greater then b\")"
   ]
  },
  {
   "cell_type": "code",
   "execution_count": null,
   "metadata": {},
   "outputs": [],
   "source": []
  }
 ],
 "metadata": {
  "kernelspec": {
   "display_name": "Python 3",
   "language": "python",
   "name": "python3"
  },
  "language_info": {
   "codemirror_mode": {
    "name": "ipython",
    "version": 3
   },
   "file_extension": ".py",
   "mimetype": "text/x-python",
   "name": "python",
   "nbconvert_exporter": "python",
   "pygments_lexer": "ipython3",
   "version": "3.11.9"
  }
 },
 "nbformat": 4,
 "nbformat_minor": 2
}
