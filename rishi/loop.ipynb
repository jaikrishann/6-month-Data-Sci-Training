{
 "cells": [
  {
   "cell_type": "code",
   "execution_count": null,
   "metadata": {},
   "outputs": [],
   "source": [
    "## loop -- for loop, while "
   ]
  },
  {
   "cell_type": "code",
   "execution_count": null,
   "metadata": {},
   "outputs": [
    {
     "name": "stdout",
     "output_type": "stream",
     "text": [
      "1\n",
      "2\n",
      "3\n",
      "4\n",
      "5\n"
     ]
    }
   ],
   "source": [
    "##for loop- iterable pura iterate karta hai list, tuple, set, dictionary\n",
    "lst = [1,2,3,4,5]\n",
    "for i in lst:\n",
    "    print(i)\n"
   ]
  },
  {
   "cell_type": "code",
   "execution_count": 4,
   "metadata": {},
   "outputs": [
    {
     "name": "stdout",
     "output_type": "stream",
     "text": [
      "2\n",
      "4\n",
      "6\n",
      "8\n",
      "10\n",
      "12\n",
      "14\n",
      "16\n",
      "18\n"
     ]
    }
   ],
   "source": [
    "for i in range(2,20,2):\n",
    "    print(i)"
   ]
  },
  {
   "cell_type": "code",
   "execution_count": 9,
   "metadata": {},
   "outputs": [
    {
     "name": "stdout",
     "output_type": "stream",
     "text": [
      "name rishi\n",
      "age 20\n",
      "gender male\n"
     ]
    }
   ],
   "source": [
    "dt = {\n",
    "    \"name\" : \"rishi\",\n",
    "    \"age\" : 20,\n",
    "    \"gender\" : \"male\"\n",
    "\n",
    "}\n",
    "\n",
    "for i,j in dt.items():\n",
    "    print(i,j)"
   ]
  },
  {
   "cell_type": "code",
   "execution_count": 11,
   "metadata": {},
   "outputs": [
    {
     "name": "stdout",
     "output_type": "stream",
     "text": [
      "22 --> even\n",
      "3 -->odd\n",
      "4 --> even\n",
      "432 --> even\n",
      "1 -->odd\n",
      "33 -->odd\n",
      "1 -->odd\n",
      "132 --> even\n",
      "3 -->odd\n",
      "2 --> even\n",
      "1 -->odd\n",
      "11 -->odd\n",
      "2 --> even\n"
     ]
    }
   ],
   "source": [
    "lst = [22,3,4,432,1,33,1,132,3,2,1,11,2]\n",
    "for i in lst:\n",
    "    if i%2==0:\n",
    "        print(i,\"--> even\")\n",
    "    else:\n",
    "        print(i,\"-->odd\")"
   ]
  },
  {
   "cell_type": "code",
   "execution_count": 12,
   "metadata": {},
   "outputs": [
    {
     "name": "stdout",
     "output_type": "stream",
     "text": [
      "1 red\n",
      "1 blue\n",
      "1 green\n",
      "2 red\n",
      "2 blue\n",
      "2 green\n",
      "3 red\n",
      "3 blue\n",
      "3 green\n"
     ]
    }
   ],
   "source": [
    "##nested for loop \n",
    "lst = [1,2,3]\n",
    "lst1 = [\"red\",\"blue\",\"green\"]\n",
    "\n",
    "for i in lst:\n",
    "    for j in lst1:\n",
    "        print(i,j)"
   ]
  },
  {
   "cell_type": "code",
   "execution_count": 13,
   "metadata": {},
   "outputs": [
    {
     "name": "stdout",
     "output_type": "stream",
     "text": [
      "u\n",
      "p\n",
      "f\n",
      "l\n",
      "a\n",
      "i\n",
      "r\n",
      "s\n"
     ]
    }
   ],
   "source": [
    "for i in \"upflairs\":\n",
    "    print(i)"
   ]
  },
  {
   "cell_type": "code",
   "execution_count": 14,
   "metadata": {},
   "outputs": [
    {
     "name": "stdout",
     "output_type": "stream",
     "text": [
      "1\n",
      "2\n",
      "3\n",
      "4\n"
     ]
    }
   ],
   "source": [
    "##break and continue\n",
    "for i in range(1,10):\n",
    "    if i==5:\n",
    "        break\n",
    "    print(i)\n",
    "    \n"
   ]
  },
  {
   "cell_type": "code",
   "execution_count": 15,
   "metadata": {},
   "outputs": [
    {
     "name": "stdout",
     "output_type": "stream",
     "text": [
      "1\n",
      "2\n",
      "3\n",
      "4\n",
      "6\n",
      "7\n",
      "8\n",
      "9\n"
     ]
    }
   ],
   "source": [
    "##continue\n",
    "for i in range(1,10):\n",
    "    if i==5:\n",
    "        continue\n",
    "    print(i)\n"
   ]
  },
  {
   "cell_type": "code",
   "execution_count": 19,
   "metadata": {},
   "outputs": [],
   "source": [
    "for i in range(1,10):\n",
    "    pass"
   ]
  },
  {
   "cell_type": "code",
   "execution_count": 24,
   "metadata": {},
   "outputs": [
    {
     "name": "stdout",
     "output_type": "stream",
     "text": [
      "value not found\n",
      "value not found\n",
      "value not found\n",
      "value not found\n",
      "value not found\n",
      "value not found\n",
      "value not found\n",
      "value not found\n",
      "value not found\n",
      "value not found\n",
      "value found\n"
     ]
    }
   ],
   "source": [
    "name = \"my age is 1\"\n",
    "\n",
    "for i in name:\n",
    "    if i == \"1\":\n",
    "        print(\"value found\")\n",
    "\n",
    "    else:\n",
    "        print(\"value not found\")\n"
   ]
  },
  {
   "cell_type": "code",
   "execution_count": null,
   "metadata": {},
   "outputs": [],
   "source": []
  }
 ],
 "metadata": {
  "kernelspec": {
   "display_name": "Python 3",
   "language": "python",
   "name": "python3"
  },
  "language_info": {
   "codemirror_mode": {
    "name": "ipython",
    "version": 3
   },
   "file_extension": ".py",
   "mimetype": "text/x-python",
   "name": "python",
   "nbconvert_exporter": "python",
   "pygments_lexer": "ipython3",
   "version": "3.11.9"
  }
 },
 "nbformat": 4,
 "nbformat_minor": 2
}
