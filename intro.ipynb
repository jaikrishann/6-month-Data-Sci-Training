{
 "cells": [
  {
   "cell_type": "code",
   "execution_count": null,
   "metadata": {},
   "outputs": [],
   "source": [
    "#variables = container for storing data values\n",
    "##rules for naming variables\n",
    "##1. variable name should not start with a number\n",
    "##2. variable name should not contain special characters\n",
    "##3. variable name should not be a keyword\n",
    "##4. variable name should be meaningful\n",
    "\n",
    "\n",
    "## \n"
   ]
  },
  {
   "cell_type": "code",
   "execution_count": null,
   "metadata": {},
   "outputs": [],
   "source": [
    "#case sensitive \n",
    "name= \"jai \"\n",
    "Name = \n",
    "NAME  = int a  = 10 \n",
    "print()"
   ]
  },
  {
   "cell_type": "code",
   "execution_count": null,
   "metadata": {},
   "outputs": [],
   "source": [
    "## data types\n",
    "## primitive data types -- int, float , boolean, complex \n",
    "\n",
    "##int - 0,1,2,3,4,5,6,7,8,9\n",
    "##float - 0.1, 0.2, 0.3, 0.4, 0.5, 0.6, 0.7, 0.8, 0.9\n",
    "##boolean - True, False\n",
    "##complex - 1+2j, 3+4j, 5+6j\n",
    "\n",
    "##non primitive data types -- list, tuple, set, dictionary,string \n"
   ]
  },
  {
   "cell_type": "code",
   "execution_count": 4,
   "metadata": {},
   "outputs": [],
   "source": [
    "## string data type\n",
    "\n",
    "# name = \"jai \" , ''\n",
    "# , \"\"\" \"\"\"\n",
    "\n",
    "name = \"jai\""
   ]
  },
  {
   "cell_type": "code",
   "execution_count": 5,
   "metadata": {},
   "outputs": [
    {
     "data": {
      "text/plain": [
       "str"
      ]
     },
     "execution_count": 5,
     "metadata": {},
     "output_type": "execute_result"
    }
   ],
   "source": [
    "type(name)"
   ]
  },
  {
   "cell_type": "code",
   "execution_count": 8,
   "metadata": {},
   "outputs": [
    {
     "name": "stdout",
     "output_type": "stream",
     "text": [
      "<class 'str'>\n",
      "<class 'float'>\n",
      "<class 'bool'>\n",
      "<class 'complex'>\n"
     ]
    }
   ],
   "source": [
    "name =\"divya\"\n",
    "digit=10\n",
    "apple=0.4\n",
    "banana=True\n",
    "pees=1+2j\n",
    "print(type(name))\n",
    "print(type(apple))\n",
    "print(type(banana))\n",
    "print(type(pees))\n"
   ]
  },
  {
   "cell_type": "code",
   "execution_count": null,
   "metadata": {},
   "outputs": [],
   "source": []
  }
 ],
 "metadata": {
  "kernelspec": {
   "display_name": "Python 3",
   "language": "python",
   "name": "python3"
  },
  "language_info": {
   "codemirror_mode": {
    "name": "ipython",
    "version": 3
   },
   "file_extension": ".py",
   "mimetype": "text/x-python",
   "name": "python",
   "nbconvert_exporter": "python",
   "pygments_lexer": "ipython3",
   "version": "3.13.1"
  }
 },
 "nbformat": 4,
 "nbformat_minor": 2
}
