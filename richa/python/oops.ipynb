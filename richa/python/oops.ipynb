{
 "cells": [
  {
   "cell_type": "code",
   "execution_count": null,
   "metadata": {},
   "outputs": [],
   "source": [
    "##class , object , inhert, polymorphism , encapsulation, abstraction\n"
   ]
  },
  {
   "cell_type": "code",
   "execution_count": 9,
   "metadata": {},
   "outputs": [
    {
     "name": "stdout",
     "output_type": "stream",
     "text": [
      "300\n",
      "200\n",
      "100\n",
      "200\n"
     ]
    }
   ],
   "source": [
    "class myclass:\n",
    "    ##class variables \n",
    "    num1 = 100\n",
    "    num2 = 200 \n",
    "    ##function vs method \n",
    "    def display(self):\n",
    "        print(self.num1)\n",
    "        print(self.num2)\n",
    "\n",
    "obj =myclass()\n",
    "# obj.num1\n",
    "# obj.display()\n",
    "obj.num1 = 300\n",
    "obj.display()\n",
    "\n",
    "obj1 = myclass()\n",
    "obj1.display()"
   ]
  },
  {
   "cell_type": "code",
   "execution_count": 11,
   "metadata": {},
   "outputs": [],
   "source": [
    "class Animal:\n",
    "    ##class variables\n",
    "    num1 = 1\n",
    "    num2 = 2\n",
    "\n",
    "    ## __init__ is a constructor --- variables define \n",
    "    def __init__(self,name,age):\n",
    "        self.name1 = name\n",
    "        self.age = age\n",
    "\n",
    "    def display(self):\n",
    "        print(self.name1)\n",
    "        print(self.age)\n",
    "        print(self.num1)\n",
    "        print(self.num2)\n"
   ]
  },
  {
   "cell_type": "code",
   "execution_count": 14,
   "metadata": {},
   "outputs": [
    {
     "name": "stdout",
     "output_type": "stream",
     "text": [
      "dog\n",
      "20\n",
      "1\n",
      "2\n"
     ]
    }
   ],
   "source": [
    "ani = Animal(age=20,name=\"dog\")\n",
    "ani.display()\n"
   ]
  },
  {
   "cell_type": "code",
   "execution_count": 8,
   "metadata": {},
   "outputs": [
    {
     "name": "stdout",
     "output_type": "stream",
     "text": [
      "20\n",
      "jai\n"
     ]
    }
   ],
   "source": [
    "class parent:\n",
    "    def __init__(self,name):\n",
    "        self.name = name\n",
    "    def display1(self):\n",
    "        print(self.name)\n",
    "\n",
    "\n",
    "class children(parent):\n",
    "    def __init__(self,age,name):\n",
    "        super().__init__(name)\n",
    "        self.age = age\n",
    "        \n",
    "\n",
    "    def display(self):\n",
    "        print(self.age)\n",
    "\n",
    "\n",
    "obj = children(age=20,name = \"jai\")\n",
    "obj.display()\n",
    "obj.display1()"
   ]
  },
  {
   "cell_type": "code",
   "execution_count": null,
   "metadata": {},
   "outputs": [
    {
     "data": {
      "text/plain": [
       "'Prints the values to a stream, or to sys.stdout by default.\\n\\n  sep\\n    string inserted between values, default a space.\\n  end\\n    string appended after the last value, default a newline.\\n  file\\n    a file-like object (stream); defaults to the current sys.stdout.\\n  flush\\n    whether to forcibly flush the stream.'"
      ]
     },
     "execution_count": 5,
     "metadata": {},
     "output_type": "execute_result"
    }
   ],
   "source": [
    "print"
   ]
  },
  {
   "cell_type": "code",
   "execution_count": null,
   "metadata": {},
   "outputs": [],
   "source": []
  },
  {
   "cell_type": "code",
   "execution_count": null,
   "metadata": {},
   "outputs": [],
   "source": []
  },
  {
   "cell_type": "code",
   "execution_count": null,
   "metadata": {},
   "outputs": [],
   "source": []
  },
  {
   "cell_type": "code",
   "execution_count": null,
   "metadata": {},
   "outputs": [],
   "source": []
  },
  {
   "cell_type": "code",
   "execution_count": null,
   "metadata": {},
   "outputs": [],
   "source": []
  }
 ],
 "metadata": {
  "kernelspec": {
   "display_name": "Python 3",
   "language": "python",
   "name": "python3"
  },
  "language_info": {
   "codemirror_mode": {
    "name": "ipython",
    "version": 3
   },
   "file_extension": ".py",
   "mimetype": "text/x-python",
   "name": "python",
   "nbconvert_exporter": "python",
   "pygments_lexer": "ipython3",
   "version": "3.13.1"
  }
 },
 "nbformat": 4,
 "nbformat_minor": 2
}
