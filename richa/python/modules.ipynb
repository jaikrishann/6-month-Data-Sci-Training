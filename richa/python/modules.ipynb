{
 "cells": [
  {
   "cell_type": "code",
   "execution_count": 1,
   "metadata": {},
   "outputs": [],
   "source": [
    "##built in modules \n",
    "## os -- operating sys\n",
    "\n",
    "\n",
    "import os "
   ]
  },
  {
   "cell_type": "code",
   "execution_count": 2,
   "metadata": {},
   "outputs": [
    {
     "data": {
      "text/plain": [
       "'c:\\\\Users\\\\jaikr\\\\OneDrive\\\\Desktop\\\\6-month-Data-Sci-Training\\\\py'"
      ]
     },
     "execution_count": 2,
     "metadata": {},
     "output_type": "execute_result"
    }
   ],
   "source": [
    "os.getcwd()"
   ]
  },
  {
   "cell_type": "code",
   "execution_count": 3,
   "metadata": {},
   "outputs": [
    {
     "data": {
      "text/plain": [
       "['.ipynb_checkpoints',\n",
       " 'data.json',\n",
       " 'dict.ipynb',\n",
       " 'exphandling.ipynb',\n",
       " 'filehandling.ipynb',\n",
       " 'for.ipynb',\n",
       " 'func.ipynb',\n",
       " 'ifelse.ipynb',\n",
       " 'intro.py',\n",
       " 'lst.ipynb',\n",
       " 'modules.ipynb',\n",
       " 'sets.ipynb',\n",
       " 'test.txt',\n",
       " 'tpl.ipynb',\n",
       " 'whileloop.ipynb']"
      ]
     },
     "execution_count": 3,
     "metadata": {},
     "output_type": "execute_result"
    }
   ],
   "source": [
    "os.listdir()"
   ]
  },
  {
   "cell_type": "code",
   "execution_count": 5,
   "metadata": {},
   "outputs": [],
   "source": [
    "os.chdir(r'C:\\Users\\jaikr\\OneDrive\\Desktop\\6-month-Data-Sci-Training\\py\\abc')"
   ]
  },
  {
   "cell_type": "code",
   "execution_count": 6,
   "metadata": {},
   "outputs": [
    {
     "data": {
      "text/plain": [
       "'C:\\\\Users\\\\jaikr\\\\OneDrive\\\\Desktop\\\\6-month-Data-Sci-Training\\\\py\\\\abc'"
      ]
     },
     "execution_count": 6,
     "metadata": {},
     "output_type": "execute_result"
    }
   ],
   "source": [
    "os.getcwd()"
   ]
  },
  {
   "cell_type": "code",
   "execution_count": 10,
   "metadata": {},
   "outputs": [
    {
     "ename": "FileExistsError",
     "evalue": "[WinError 183] Cannot create a file when that file already exists: 'parent_folder/child_folder'",
     "output_type": "error",
     "traceback": [
      "\u001b[1;31m---------------------------------------------------------------------------\u001b[0m",
      "\u001b[1;31mFileExistsError\u001b[0m                           Traceback (most recent call last)",
      "Cell \u001b[1;32mIn[10], line 2\u001b[0m\n\u001b[0;32m      1\u001b[0m \u001b[38;5;66;03m# os.mkdir(\"new_folder\")  # Creates a single directory\u001b[39;00m\n\u001b[1;32m----> 2\u001b[0m \u001b[43mos\u001b[49m\u001b[38;5;241;43m.\u001b[39;49m\u001b[43mmakedirs\u001b[49m\u001b[43m(\u001b[49m\u001b[38;5;124;43m\"\u001b[39;49m\u001b[38;5;124;43mparent_folder/child_folder\u001b[39;49m\u001b[38;5;124;43m\"\u001b[39;49m\u001b[43m)\u001b[49m  \u001b[38;5;66;03m# Creates nested directories\u001b[39;00m\n",
      "File \u001b[1;32m<frozen os>:227\u001b[0m, in \u001b[0;36mmakedirs\u001b[1;34m(name, mode, exist_ok)\u001b[0m\n",
      "\u001b[1;31mFileExistsError\u001b[0m: [WinError 183] Cannot create a file when that file already exists: 'parent_folder/child_folder'"
     ]
    }
   ],
   "source": [
    "# os.mkdir(\"new_folder\")  # Creates a single directory\n",
    "os.makedirs(\"parent_folder/child_folder\")  # Creates nested directories\n"
   ]
  },
  {
   "cell_type": "code",
   "execution_count": null,
   "metadata": {},
   "outputs": [],
   "source": [
    "os.rmdir(\"new_folder\")  # Removes an empty directory\n",
    "os.removedirs(\"parent_folder/child_folder\")  # Removes nested directories\n"
   ]
  },
  {
   "cell_type": "code",
   "execution_count": 11,
   "metadata": {},
   "outputs": [
    {
     "name": "stdout",
     "output_type": "stream",
     "text": [
      "False\n",
      "False\n",
      "False\n"
     ]
    }
   ],
   "source": [
    "print(os.path.exists(\"file.txt\"))  # True if file or folder exists\n",
    "print(os.path.isfile(\"file.txt\"))  # True if it's a file\n",
    "print(os.path.isdir(\"my_folder\"))  # True if it's a directory\n"
   ]
  },
  {
   "cell_type": "code",
   "execution_count": null,
   "metadata": {},
   "outputs": [],
   "source": [
    "os.rename(\"old_name.txt\", \"new_name.txt\")"
   ]
  },
  {
   "cell_type": "code",
   "execution_count": 14,
   "metadata": {},
   "outputs": [
    {
     "name": "stdout",
     "output_type": "stream",
     "text": [
      "C:\\Users\\jaikr\\OneDrive\\Desktop\\6-month-Data-Sci-Training\\py\\abc\\file.txt\n"
     ]
    }
   ],
   "source": [
    "print(os.path.abspath(\"file.txt\"))  # Outputs full path of the file\n"
   ]
  },
  {
   "cell_type": "code",
   "execution_count": 15,
   "metadata": {},
   "outputs": [
    {
     "name": "stdout",
     "output_type": "stream",
     "text": [
      "py\\file.txt\n"
     ]
    }
   ],
   "source": [
    "file_path = os.path.join(\"py\", \"file.txt\")\n",
    "print(file_path)  # Output: folder/file.txt (Linux) or folder\\file.txt (Windows)\n"
   ]
  },
  {
   "cell_type": "code",
   "execution_count": null,
   "metadata": {},
   "outputs": [],
   "source": [
    "import os\n",
    "\n",
    "folders = [\"folder1\", \"folder2\", \"folder3\"]  # List of folder names\n",
    "\n",
    "for folder in folders:\n",
    "    os.mkdir(folder, exist_ok=True)  # Create each folder\n"
   ]
  },
  {
   "cell_type": "code",
   "execution_count": 16,
   "metadata": {},
   "outputs": [],
   "source": [
    "import random"
   ]
  },
  {
   "cell_type": "code",
   "execution_count": 17,
   "metadata": {},
   "outputs": [
    {
     "name": "stdout",
     "output_type": "stream",
     "text": [
      "0.6087003315598633\n"
     ]
    }
   ],
   "source": [
    "print(random.random())  # Output: 0.2345 (Random float between 0 and 1)\n"
   ]
  },
  {
   "cell_type": "code",
   "execution_count": 18,
   "metadata": {},
   "outputs": [
    {
     "name": "stdout",
     "output_type": "stream",
     "text": [
      "17.202948186622883\n"
     ]
    }
   ],
   "source": [
    "print(random.uniform(10, 20))  # Output: Random float between 10 and 20\n"
   ]
  },
  {
   "cell_type": "code",
   "execution_count": 19,
   "metadata": {},
   "outputs": [
    {
     "name": "stdout",
     "output_type": "stream",
     "text": [
      "8\n"
     ]
    }
   ],
   "source": [
    "print(random.randrange(1, 10))  # Output: Random odd number between 1 and 9\n"
   ]
  },
  {
   "cell_type": "code",
   "execution_count": 20,
   "metadata": {},
   "outputs": [
    {
     "name": "stdout",
     "output_type": "stream",
     "text": [
      "[3, 4, 1, 2, 5]\n"
     ]
    }
   ],
   "source": [
    "numbers = [1, 2, 3, 4, 5]\n",
    "random.shuffle(numbers)\n",
    "print(numbers)  # Output: Randomly shuffled order\n",
    "\n",
    "\n"
   ]
  },
  {
   "cell_type": "code",
   "execution_count": 21,
   "metadata": {},
   "outputs": [
    {
     "name": "stdout",
     "output_type": "stream",
     "text": [
      "2025-02-03\n"
     ]
    }
   ],
   "source": [
    "import datetime\n",
    "\n",
    "current_date = datetime.date.today()\n",
    "print(current_date)  # Output: YYYY-MM-DD (e.g., 2025-02-03)\n"
   ]
  },
  {
   "cell_type": "code",
   "execution_count": 22,
   "metadata": {},
   "outputs": [
    {
     "name": "stdout",
     "output_type": "stream",
     "text": [
      "2025-06-03\n"
     ]
    }
   ],
   "source": [
    "specific_date = datetime.date(2025, 6, 3)\n",
    "print(specific_date)  # Output: 2025-02-03\n"
   ]
  },
  {
   "cell_type": "code",
   "execution_count": 23,
   "metadata": {},
   "outputs": [
    {
     "name": "stdout",
     "output_type": "stream",
     "text": [
      "2025-02-03 15:05:54.147307\n"
     ]
    }
   ],
   "source": [
    "current_time = datetime.datetime.now()\n",
    "print(current_time)  # Output: HH:MM:SS.mmmmmm (e.g., 14:30:45.123456)\n"
   ]
  },
  {
   "cell_type": "code",
   "execution_count": null,
   "metadata": {},
   "outputs": [],
   "source": []
  }
 ],
 "metadata": {
  "kernelspec": {
   "display_name": "Python 3",
   "language": "python",
   "name": "python3"
  },
  "language_info": {
   "codemirror_mode": {
    "name": "ipython",
    "version": 3
   },
   "file_extension": ".py",
   "mimetype": "text/x-python",
   "name": "python",
   "nbconvert_exporter": "python",
   "pygments_lexer": "ipython3",
   "version": "3.13.1"
  }
 },
 "nbformat": 4,
 "nbformat_minor": 2
}
