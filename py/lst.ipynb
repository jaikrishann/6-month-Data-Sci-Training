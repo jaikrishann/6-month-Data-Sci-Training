{
 "cells": [
  {
   "cell_type": "code",
   "execution_count": null,
   "metadata": {},
   "outputs": [],
   "source": [
    "##lst \n",
    "# List items are ordered, changeable(mutable), and allow duplicate values , multiple data types can be stored "
   ]
  },
  {
   "cell_type": "code",
   "execution_count": 3,
   "metadata": {},
   "outputs": [
    {
     "name": "stdout",
     "output_type": "stream",
     "text": [
      "[1, 2, True, 22.34, 'hello', 2]\n",
      "<class 'list'>\n"
     ]
    }
   ],
   "source": [
    "lst = [1,2,True,22.34,\"hello\",2]\n",
    "print(lst)\n",
    "print(type(lst))"
   ]
  },
  {
   "cell_type": "code",
   "execution_count": 8,
   "metadata": {},
   "outputs": [
    {
     "name": "stdout",
     "output_type": "stream",
     "text": [
      "1\n",
      "2\n",
      "[2, 22.34, 2]\n"
     ]
    }
   ],
   "source": [
    "#indexing \n",
    "print(lst[0])\n",
    "print(lst[-1])\n",
    "\n",
    "#Slicing\n",
    "print(lst[1::2])"
   ]
  },
  {
   "cell_type": "code",
   "execution_count": 10,
   "metadata": {},
   "outputs": [
    {
     "name": "stdout",
     "output_type": "stream",
     "text": [
      "[1, 2, True, 22.34, 'world', 2]\n"
     ]
    }
   ],
   "source": [
    "# print(lst[4])\n",
    "lst[4] = \"world\"\n",
    "print(lst)"
   ]
  },
  {
   "cell_type": "code",
   "execution_count": 22,
   "metadata": {},
   "outputs": [
    {
     "name": "stdout",
     "output_type": "stream",
     "text": [
      "['yellow', 'green', 'blue', 'black', 'red']\n"
     ]
    }
   ],
   "source": [
    "lst = [\"red\",\"black\",\"blue\",\"green\",\"yellow\"]\n",
    "# print(lst[1:3])\n",
    "# lst[1:3] = [\"pink\",\"orange\"]\n",
    "# lst[1:4] = [\"pink\",\"orange\"]\n",
    "# lst[:] = ['orange']/\\\n",
    "\n",
    "\n",
    "print(lst[::-1])"
   ]
  },
  {
   "cell_type": "code",
   "execution_count": 3,
   "metadata": {},
   "outputs": [
    {
     "ename": "SyntaxError",
     "evalue": "invalid syntax (2414002776.py, line 20)",
     "output_type": "error",
     "traceback": [
      "\u001b[1;36m  Cell \u001b[1;32mIn[3], line 20\u001b[1;36m\u001b[0m\n\u001b[1;33m    lst.\u001b[0m\n\u001b[1;37m        ^\u001b[0m\n\u001b[1;31mSyntaxError\u001b[0m\u001b[1;31m:\u001b[0m invalid syntax\n"
     ]
    }
   ],
   "source": [
    "lst = [\"red\",\"black\",\"blue\",\"green\",\"yellow\",\"red\"]\n",
    "# lst.reverse()\n",
    "# lst.clear()                             ##clear delete\n",
    "# lst.append(\"orange\")\n",
    "# lst2=lst.copy()\n",
    "# lst.extend([\"pink\",\"orange\"])\n",
    "\n",
    "\n",
    "\n",
    "# lst.insert(2,\"pink\")\n",
    "# lst.remove(\"red\")\n",
    "# lst.pop()\n",
    "# lst.count(\"red\")\n",
    "# x = lst.sort()\n",
    "# print(x)\n",
    "# print(lst)\n",
    "#sort\n",
    "# lst.sort(reverse=True)\n",
    "# print(lst)\n",
    "lst.append()\n",
    "list"
   ]
  },
  {
   "cell_type": "code",
   "execution_count": 2,
   "metadata": {},
   "outputs": [],
   "source": [
    "lst= [10,20,[30,40,50,[60,70],80],90,100]"
   ]
  },
  {
   "cell_type": "code",
   "execution_count": 5,
   "metadata": {},
   "outputs": [
    {
     "data": {
      "text/plain": [
       "70"
      ]
     },
     "execution_count": 5,
     "metadata": {},
     "output_type": "execute_result"
    }
   ],
   "source": [
    "lst[2][3][1]"
   ]
  },
  {
   "cell_type": "code",
   "execution_count": 6,
   "metadata": {},
   "outputs": [
    {
     "name": "stdout",
     "output_type": "stream",
     "text": [
      "connected\n"
     ]
    }
   ],
   "source": [
    "import mysql.connector\n",
    "connection=mysql.connector.connect(host=\"16.171.3.98\",user=\"Admin\",password=\"Password123!\",database=\"room\")\n",
    "if connection.is_connected():\n",
    "    print(\"connected\")\n",
    "else:\n",
    "    print(\"not connected\")"
   ]
  },
  {
   "cell_type": "code",
   "execution_count": null,
   "metadata": {},
   "outputs": [],
   "source": []
  },
  {
   "cell_type": "code",
   "execution_count": null,
   "metadata": {},
   "outputs": [],
   "source": []
  }
 ],
 "metadata": {
  "kernelspec": {
   "display_name": "Python 3",
   "language": "python",
   "name": "python3"
  },
  "language_info": {
   "codemirror_mode": {
    "name": "ipython",
    "version": 3
   },
   "file_extension": ".py",
   "mimetype": "text/x-python",
   "name": "python",
   "nbconvert_exporter": "python",
   "pygments_lexer": "ipython3",
   "version": "3.13.1"
  }
 },
 "nbformat": 4,
 "nbformat_minor": 2
}
