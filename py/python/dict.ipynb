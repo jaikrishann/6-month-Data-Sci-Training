{
 "cells": [
  {
   "cell_type": "code",
   "execution_count": null,
   "metadata": {},
   "outputs": [],
   "source": [
    "##ordered, do not allow duplicates, multiple data types, mutable\n",
    "##key : value "
   ]
  },
  {
   "cell_type": "code",
   "execution_count": 1,
   "metadata": {},
   "outputs": [
    {
     "name": "stdout",
     "output_type": "stream",
     "text": [
      "{'name': 'John', 'age': 30, 'city': 'New York'}\n",
      "<class 'dict'>\n"
     ]
    }
   ],
   "source": [
    "dt = {\n",
    "    \"name\": \"John\",\n",
    "    \"age\": 30,\n",
    "    \"city\": \"New York\"\n",
    "}\n",
    "\n",
    "print(dt)\n",
    "\n",
    "print(type(dt))"
   ]
  },
  {
   "cell_type": "code",
   "execution_count": 2,
   "metadata": {},
   "outputs": [
    {
     "name": "stdout",
     "output_type": "stream",
     "text": [
      "{'name': ['John', 'Doe'], 'age': {'age': 30}, 'city': 'New York'}\n"
     ]
    }
   ],
   "source": [
    "dt = {\n",
    "    \"name\": [\"John\", \"Doe\"],\n",
    "    \"age\": {\"age\":30},\n",
    "    \"city\": \"New York\"\n",
    "}\n",
    "\n",
    "print(dt)"
   ]
  },
  {
   "cell_type": "code",
   "execution_count": 6,
   "metadata": {},
   "outputs": [
    {
     "name": "stdout",
     "output_type": "stream",
     "text": [
      "{'name': 'John', 'age': 30, 'city': 'hsd'}\n"
     ]
    }
   ],
   "source": [
    "dt = {\n",
    "    \"name\": \"John\",\n",
    "    \"age\": 30,\n",
    "    \"city\": \"New York\",\n",
    "    \"city\" : \"hsd\"\n",
    "}\n",
    "\n",
    "# print(dt[\"name\"])\n",
    "# dt[\"name\"] = \"Jane\"\n",
    "print(dt)"
   ]
  },
  {
   "cell_type": "code",
   "execution_count": 7,
   "metadata": {},
   "outputs": [
    {
     "name": "stdout",
     "output_type": "stream",
     "text": [
      "{'name': 'John', 'age': 30, 'city': 'New York'}\n"
     ]
    }
   ],
   "source": [
    "##constructor \n",
    "dt = dict(name=\"John\", age=30, city=\"New York\")\n",
    "\n",
    "print(dt)"
   ]
  },
  {
   "cell_type": "code",
   "execution_count": 29,
   "metadata": {},
   "outputs": [
    {
     "name": "stdout",
     "output_type": "stream",
     "text": [
      "{'name': ['John', 'Doe'], 'age': 30, 'city': 'New York', 'no': 'John', 'surname': 'Jane'}\n"
     ]
    }
   ],
   "source": [
    "dt = {\n",
    "    \"name\": [\"John\", \"Doe\"],\n",
    "    \"age\": 30,\n",
    "    \"city\": \"New York\",\n",
    "    \"no\": (\"John\")\n",
    "}\n",
    "\n",
    "# print(dt.get(\"name\"))\n",
    "# print(dt.items())\n",
    "# print(dt.keys())\n",
    "# print(dt.values())\n",
    "\n",
    "# dt[\"name\"].append(\"Smith\")\n",
    "\n",
    "# dt[\"name\"].pop()\n",
    "\n",
    "# dt.pop(\"name\")\n",
    "\n",
    "# dt.popitem()\n",
    "\n",
    "# del dt[\"name\"]\n",
    "# dt.update({\"name\": \"Jane\", \"age\": 40})\n",
    "\n",
    "# dt.clear()\n",
    "\n",
    "dt.setdefault(\"surname\", \"Jane\")\n",
    "\n",
    "\n",
    "print(dt)"
   ]
  },
  {
   "cell_type": "code",
   "execution_count": null,
   "metadata": {},
   "outputs": [],
   "source": []
  },
  {
   "cell_type": "code",
   "execution_count": null,
   "metadata": {},
   "outputs": [],
   "source": []
  },
  {
   "cell_type": "code",
   "execution_count": null,
   "metadata": {},
   "outputs": [],
   "source": []
  }
 ],
 "metadata": {
  "kernelspec": {
   "display_name": "Python 3",
   "language": "python",
   "name": "python3"
  },
  "language_info": {
   "codemirror_mode": {
    "name": "ipython",
    "version": 3
   },
   "file_extension": ".py",
   "mimetype": "text/x-python",
   "name": "python",
   "nbconvert_exporter": "python",
   "pygments_lexer": "ipython3",
   "version": "3.13.1"
  }
 },
 "nbformat": 4,
 "nbformat_minor": 2
}
