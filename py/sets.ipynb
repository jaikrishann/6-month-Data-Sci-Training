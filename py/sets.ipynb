{
 "cells": [
  {
   "cell_type": "code",
   "execution_count": null,
   "id": "d39c78dd-f65c-41e7-b6ab-e0ac97cccbe9",
   "metadata": {},
   "outputs": [],
   "source": [
    "##unordered , does not allow duplicates, multiple data types and \n"
   ]
  },
  {
   "cell_type": "code",
   "execution_count": 16,
   "id": "f2200e5c",
   "metadata": {},
   "outputs": [
    {
     "name": "stdout",
     "output_type": "stream",
     "text": [
      "{False, 1, 2, 3, 4, 5, 6, 7, 8, 9, 10, 11, 12, 13, 14, 15, 16, 17, 18, 19, 20, 22.34}\n",
      "<class 'set'>\n"
     ]
    }
   ],
   "source": [
    "st = {1,2,3,4,5,6,7,8,9,10,True,22.34,False}\n",
    "# st.add(11)\n",
    "# st.clear()\n",
    "# s1 = st.copy()\n",
    "# st.discard(122)\n",
    "# st.remove(22)\n",
    "# st.pop()\n",
    "# st.update([11,12,13,14,15,16,17,18,19,20])\n",
    "\n",
    "\n",
    "print(st)\n",
    "print(type(st))"
   ]
  },
  {
   "cell_type": "code",
   "execution_count": 17,
   "id": "9384e05f",
   "metadata": {},
   "outputs": [
    {
     "name": "stdout",
     "output_type": "stream",
     "text": [
      "{1, 2, 3, 4, 5, 6}\n"
     ]
    }
   ],
   "source": [
    "a = {1,2,3}\n",
    "b = {4,5,6}\n",
    "\n",
    "print(a.union(b)) "
   ]
  },
  {
   "cell_type": "code",
   "execution_count": 19,
   "id": "82872842",
   "metadata": {},
   "outputs": [
    {
     "name": "stdout",
     "output_type": "stream",
     "text": [
      "{4}\n"
     ]
    }
   ],
   "source": [
    "a = {1,2,3,4}\n",
    "b = {4,5,6}\n",
    "\n",
    "print(a.intersection(b))"
   ]
  },
  {
   "cell_type": "code",
   "execution_count": 20,
   "id": "3c01a270",
   "metadata": {},
   "outputs": [
    {
     "name": "stdout",
     "output_type": "stream",
     "text": [
      "{1, 2, 3}\n"
     ]
    }
   ],
   "source": [
    "a = {1,2,3}\n",
    "b = {4,5,6}\n",
    "\n",
    "print(a.difference(b))\n"
   ]
  },
  {
   "cell_type": "code",
   "execution_count": 21,
   "id": "6e1dd6b4",
   "metadata": {},
   "outputs": [
    {
     "name": "stdout",
     "output_type": "stream",
     "text": [
      "{1, 2, 3, 5, 6}\n"
     ]
    }
   ],
   "source": [
    "a = {1,2,3,4}\n",
    "b = {4,5,6}\n",
    "\n",
    "print(a.symmetric_difference(b))"
   ]
  },
  {
   "cell_type": "code",
   "execution_count": 23,
   "id": "b7bcfb60",
   "metadata": {},
   "outputs": [
    {
     "name": "stdout",
     "output_type": "stream",
     "text": [
      "True\n"
     ]
    }
   ],
   "source": [
    "\n",
    "a = {4,5}\n",
    "b = {4,5,6}\n",
    "\n",
    "\n",
    "\n",
    "print(a.issubset(b))"
   ]
  },
  {
   "cell_type": "code",
   "execution_count": null,
   "id": "d0245877",
   "metadata": {},
   "outputs": [],
   "source": []
  }
 ],
 "metadata": {
  "kernelspec": {
   "display_name": "Python 3",
   "language": "python",
   "name": "python3"
  },
  "language_info": {
   "codemirror_mode": {
    "name": "ipython",
    "version": 3
   },
   "file_extension": ".py",
   "mimetype": "text/x-python",
   "name": "python",
   "nbconvert_exporter": "python",
   "pygments_lexer": "ipython3",
   "version": "3.13.1"
  }
 },
 "nbformat": 4,
 "nbformat_minor": 5
}
