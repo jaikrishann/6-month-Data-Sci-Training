{
 "cells": [
  {
   "cell_type": "code",
   "execution_count": null,
   "id": "7a9caab5",
   "metadata": {},
   "outputs": [],
   "source": [
    "##list -- [] -- ordered collection of items -- mutable(changeable)-- duplicates allowed -- indexing and slicing\n",
    "##-- multiple data types allowed"
   ]
  },
  {
   "cell_type": "code",
   "execution_count": 1,
   "id": "8a2ccc53",
   "metadata": {},
   "outputs": [
    {
     "name": "stdout",
     "output_type": "stream",
     "text": [
      "[1, 2, 3, 33.45, True, 'hello', 1, 2]\n",
      "<class 'list'>\n"
     ]
    }
   ],
   "source": [
    "lst = [1,2,3,33.45,True,\"hello\",1,2]\n",
    "print(lst)\n",
    "print(type(lst))"
   ]
  },
  {
   "cell_type": "code",
   "execution_count": null,
   "id": "00a43583",
   "metadata": {},
   "outputs": [],
   "source": [
    "##indexing and slicing \n",
    "##indexing -- access the single item in the list\n",
    "##slicing -- access the multiple items in the list\n"
   ]
  },
  {
   "cell_type": "code",
   "execution_count": 5,
   "id": "88c3b942",
   "metadata": {},
   "outputs": [
    {
     "name": "stdout",
     "output_type": "stream",
     "text": [
      "1\n",
      "hello\n"
     ]
    }
   ],
   "source": [
    "#indexing\n",
    "print(lst[0])\n",
    "print(lst[-3])"
   ]
  },
  {
   "cell_type": "code",
   "execution_count": 8,
   "id": "9a61d612",
   "metadata": {},
   "outputs": [
    {
     "name": "stdout",
     "output_type": "stream",
     "text": [
      "[1, 2, 3, 33.45, True]\n"
     ]
    }
   ],
   "source": [
    "##slicing --[start:end:step/skip] --- n , n-1\n",
    "print(lst[0:5])"
   ]
  },
  {
   "cell_type": "code",
   "execution_count": null,
   "id": "4a7b34d7",
   "metadata": {},
   "outputs": [
    {
     "name": "stdout",
     "output_type": "stream",
     "text": [
      "['red', 'red', 'blue', 'black']\n"
     ]
    }
   ],
   "source": [
    "##list methods  \n",
    "colour  = [\"red\",\"black\",\"blue\",\"red\"]\n",
    "# colour.append(\"green\")\n",
    "# colour.extend([\"green\",\"yellow\"])\n",
    "# colour.insert(2,\"green\")\n",
    "# colour.pop(0)\n",
    "# colour.remove(\"red\")\n",
    "# colour.sort(reverse=True)\n",
    "print(colour)\n",
    "\n",
    "# print(colour.count(\"red\"))\n",
    "# print(colour.index(\"red\"))\n",
    "\n",
    "# c = colour.copy()\n",
    "# print(c)\n",
    "\n",
    "# colour.clear()\n",
    "# print(colour)\n",
    "\n",
    "# colour.reverse()\n",
    "# print(colour)\n",
    "\n"
   ]
  },
  {
   "cell_type": "code",
   "execution_count": 13,
   "id": "1bab2bb5",
   "metadata": {},
   "outputs": [
    {
     "name": "stdout",
     "output_type": "stream",
     "text": [
      "['green', 'yellow', 'blue', 'red']\n"
     ]
    }
   ],
   "source": [
    "##agar aaapko accessing ke through kisi item ki value change karni hai \n",
    "\n",
    "colour  = [\"red\",\"black\",\"blue\",\"red\"]\n",
    "colour[0:2] = [\"green\",\"yellow\"]\n",
    "print(colour)\n"
   ]
  },
  {
   "cell_type": "code",
   "execution_count": null,
   "id": "b8144107",
   "metadata": {},
   "outputs": [],
   "source": []
  }
 ],
 "metadata": {
  "kernelspec": {
   "display_name": "Python 3",
   "language": "python",
   "name": "python3"
  },
  "language_info": {
   "codemirror_mode": {
    "name": "ipython",
    "version": 3
   },
   "file_extension": ".py",
   "mimetype": "text/x-python",
   "name": "python",
   "nbconvert_exporter": "python",
   "pygments_lexer": "ipython3",
   "version": "3.11.9"
  }
 },
 "nbformat": 4,
 "nbformat_minor": 5
}
