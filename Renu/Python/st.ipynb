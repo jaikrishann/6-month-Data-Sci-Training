{
 "cells": [
  {
   "cell_type": "code",
   "execution_count": null,
   "id": "ce253752",
   "metadata": {},
   "outputs": [],
   "source": [
    "##sets == {} -- unordered , unchangeable, unindexed , no duplicate value\n",
    "## add , remove \n",
    "##mathematical operations -- union , intersection , difference,"
   ]
  },
  {
   "cell_type": "code",
   "execution_count": null,
   "id": "36367261",
   "metadata": {},
   "outputs": [
    {
     "name": "stdout",
     "output_type": "stream",
     "text": [
      "{1, 2, 3, 'hello'}\n",
      "<class 'set'>\n"
     ]
    }
   ],
   "source": [
    "st  = {\"hello\",1,2,3,\"hello\",True}\n",
    "print(st)\n",
    "print(type(st))\n",
    "\n",
    "\n",
    "#true -- 1\n",
    "#false -- 0"
   ]
  },
  {
   "cell_type": "code",
   "execution_count": null,
   "id": "7f732c17",
   "metadata": {},
   "outputs": [
    {
     "name": "stdout",
     "output_type": "stream",
     "text": [
      "{1, 2, 3, 4, 5, 6, 7, 8}\n"
     ]
    }
   ],
   "source": [
    "st = {1,2,3,4,5}\n",
    "# st.add(6)\n",
    "# st.clear()\n",
    "# st.pop()\n",
    "# st.remove(9)\n",
    "# st.discard(9)\n",
    "# st.update([6,7,8])\n",
    "print(st)"
   ]
  },
  {
   "cell_type": "code",
   "execution_count": 6,
   "id": "e0ac0b2e",
   "metadata": {},
   "outputs": [
    {
     "name": "stdout",
     "output_type": "stream",
     "text": [
      "{1, 2, 3, 4, 5}\n"
     ]
    }
   ],
   "source": [
    "st = {1,2,3,4,5}\n",
    "st1 = st.copy()\n",
    "print(st1)"
   ]
  },
  {
   "cell_type": "code",
   "execution_count": 22,
   "id": "09aec174",
   "metadata": {},
   "outputs": [
    {
     "data": {
      "text/plain": [
       "False"
      ]
     },
     "execution_count": 22,
     "metadata": {},
     "output_type": "execute_result"
    }
   ],
   "source": [
    "st1 = {1,2,3,5}\n",
    "st2 = {4,5}\n",
    "\n",
    "# st1.union(st2)\n",
    "\n",
    "# st1.intersection(st2)\n",
    "\n",
    "# st1.difference(st2)\n",
    "\n",
    "# st1.symmetric_difference(st2)\n",
    "st1.issubset(st2)\n"
   ]
  },
  {
   "cell_type": "code",
   "execution_count": 25,
   "id": "481aaf01",
   "metadata": {},
   "outputs": [
    {
     "data": {
      "text/plain": [
       "7"
      ]
     },
     "execution_count": 25,
     "metadata": {},
     "output_type": "execute_result"
    }
   ],
   "source": [
    "# len() --- length of the string, list , tuple, set, dictionary\n",
    "##space -- count of space\n",
    "\n",
    "name = \"hello  \"\n",
    "len(name)"
   ]
  },
  {
   "cell_type": "code",
   "execution_count": null,
   "id": "48d158ff",
   "metadata": {},
   "outputs": [],
   "source": []
  },
  {
   "cell_type": "code",
   "execution_count": null,
   "id": "54885b8b",
   "metadata": {},
   "outputs": [],
   "source": []
  },
  {
   "cell_type": "code",
   "execution_count": null,
   "id": "11caf173",
   "metadata": {},
   "outputs": [],
   "source": []
  },
  {
   "cell_type": "code",
   "execution_count": null,
   "id": "e498c0e9",
   "metadata": {},
   "outputs": [],
   "source": []
  }
 ],
 "metadata": {
  "kernelspec": {
   "display_name": "Python 3",
   "language": "python",
   "name": "python3"
  },
  "language_info": {
   "codemirror_mode": {
    "name": "ipython",
    "version": 3
   },
   "file_extension": ".py",
   "mimetype": "text/x-python",
   "name": "python",
   "nbconvert_exporter": "python",
   "pygments_lexer": "ipython3",
   "version": "3.11.9"
  }
 },
 "nbformat": 4,
 "nbformat_minor": 5
}
