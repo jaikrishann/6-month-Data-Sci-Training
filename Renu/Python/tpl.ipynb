{
 "cells": [
  {
   "cell_type": "code",
   "execution_count": null,
   "id": "75c272a3",
   "metadata": {},
   "outputs": [],
   "source": [
    "# tuple --- () --- immutable , ordered , indexed, hetrogenous, allows duplicates"
   ]
  },
  {
   "cell_type": "code",
   "execution_count": null,
   "id": "ae414cd9",
   "metadata": {},
   "outputs": [
    {
     "name": "stdout",
     "output_type": "stream",
     "text": [
      "('red', 'black', 'blue')\n",
      "<class 'tuple'>\n"
     ]
    }
   ],
   "source": [
    "tpl = ('red',\"black\",\"blue\")\n",
    "print(tpl)\n",
    "print(type(tpl))"
   ]
  },
  {
   "cell_type": "code",
   "execution_count": null,
   "id": "a98033b8",
   "metadata": {},
   "outputs": [
    {
     "name": "stdout",
     "output_type": "stream",
     "text": [
      "('red',)\n",
      "<class 'tuple'>\n"
     ]
    }
   ],
   "source": [
    "#how to make single elemet tpl \n",
    "tpl = (\"red\",)\n",
    "print(tpl)\n",
    "print(type(tpl))\n"
   ]
  },
  {
   "cell_type": "code",
   "execution_count": null,
   "id": "99a6da07",
   "metadata": {},
   "outputs": [],
   "source": [
    "##immutable -- once created we can not change\n",
    "tpl = (\"red\",\"black\",\"blue\")\n",
    "tpl."
   ]
  },
  {
   "cell_type": "code",
   "execution_count": null,
   "id": "f9a198a0",
   "metadata": {},
   "outputs": [],
   "source": []
  },
  {
   "cell_type": "code",
   "execution_count": null,
   "id": "be33a35f",
   "metadata": {},
   "outputs": [],
   "source": []
  },
  {
   "cell_type": "code",
   "execution_count": null,
   "id": "36932010",
   "metadata": {},
   "outputs": [],
   "source": []
  }
 ],
 "metadata": {
  "kernelspec": {
   "display_name": "Python 3",
   "language": "python",
   "name": "python3"
  },
  "language_info": {
   "codemirror_mode": {
    "name": "ipython",
    "version": 3
   },
   "file_extension": ".py",
   "mimetype": "text/x-python",
   "name": "python",
   "nbconvert_exporter": "python",
   "pygments_lexer": "ipython3",
   "version": "3.11.9"
  }
 },
 "nbformat": 4,
 "nbformat_minor": 5
}
