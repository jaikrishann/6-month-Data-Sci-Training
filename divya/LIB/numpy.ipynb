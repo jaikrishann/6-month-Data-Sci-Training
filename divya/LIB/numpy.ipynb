{
 "cells": [
  {
   "cell_type": "code",
   "execution_count": null,
   "id": "fe782b81",
   "metadata": {},
   "outputs": [],
   "source": [
    "##numpy , pandas , matplotlib, seaborn  --- third party library\n",
    "#pip -- package manager \n",
    "##pip install numpy \n",
    "\n",
    "##numpy -- numerical python \n",
    "##mathematical operations \n",
    "##linear algebra \n",
    "##array\n",
    "#array -- data type \n",
    "# diff array vs list \n",
    "# list - mutiple data types \n",
    "#array - single data type\n",
    "##same list --- [1,2,\"jai\",True]\n",
    "# array - [1,2,3,4,5] \n",
    "\n",
    "#array -- dimension\n",
    "##1d array --- single list -- []\n",
    "##2d array -- list of lists -- [[]]\n",
    "##3d array -- list of 2d array -- [[[]]]\n",
    "##nd array \n"
   ]
  },
  {
   "cell_type": "code",
   "execution_count": null,
   "id": "a06efa33",
   "metadata": {},
   "outputs": [],
   "source": [
    "##how to make an array \n",
    "import numpy as np  #alias // nickname "
   ]
  },
  {
   "cell_type": "code",
   "execution_count": 5,
   "id": "2ec2731d",
   "metadata": {},
   "outputs": [
    {
     "data": {
      "text/plain": [
       "array([1, 2, 3, 4, 5, 6])"
      ]
     },
     "execution_count": 5,
     "metadata": {},
     "output_type": "execute_result"
    }
   ],
   "source": [
    "arr1 = np.array([1,2,3,4,5,6])\n",
    "arr1"
   ]
  },
  {
   "cell_type": "code",
   "execution_count": 6,
   "id": "9e7c0ebe",
   "metadata": {},
   "outputs": [
    {
     "data": {
      "text/plain": [
       "array([ 1,  3,  5,  7,  9, 11, 13, 15, 17, 19, 21, 23, 25, 27, 29, 31, 33,\n",
       "       35, 37, 39, 41, 43, 45, 47, 49, 51, 53, 55, 57, 59, 61, 63, 65, 67,\n",
       "       69, 71, 73, 75, 77, 79, 81, 83, 85, 87, 89, 91, 93, 95, 97, 99])"
      ]
     },
     "execution_count": 6,
     "metadata": {},
     "output_type": "execute_result"
    }
   ],
   "source": [
    "#range(1,10) -- 1 to 9\n",
    "arr2 = np.arange(1,100,2)\n",
    "arr2\n"
   ]
  },
  {
   "cell_type": "code",
   "execution_count": 13,
   "id": "08508de5",
   "metadata": {},
   "outputs": [
    {
     "data": {
      "text/plain": [
       "array([[0., 0., 0.],\n",
       "       [0., 0., 0.]])"
      ]
     },
     "execution_count": 13,
     "metadata": {},
     "output_type": "execute_result"
    }
   ],
   "source": [
    "#matrix -- [1 ,1 ,1 ,1 ] , [0,0,0,]\n",
    "#ones array\n",
    "# arr3 = np.ones(10)\n",
    "# arr3 = np.zeros(10)\n",
    "arr3 = np.zeros((2,3))\n",
    "arr3"
   ]
  },
  {
   "cell_type": "code",
   "execution_count": 10,
   "id": "f22683ca",
   "metadata": {},
   "outputs": [
    {
     "data": {
      "text/plain": [
       "array([ 1.        ,  1.18367347,  1.36734694,  1.55102041,  1.73469388,\n",
       "        1.91836735,  2.10204082,  2.28571429,  2.46938776,  2.65306122,\n",
       "        2.83673469,  3.02040816,  3.20408163,  3.3877551 ,  3.57142857,\n",
       "        3.75510204,  3.93877551,  4.12244898,  4.30612245,  4.48979592,\n",
       "        4.67346939,  4.85714286,  5.04081633,  5.2244898 ,  5.40816327,\n",
       "        5.59183673,  5.7755102 ,  5.95918367,  6.14285714,  6.32653061,\n",
       "        6.51020408,  6.69387755,  6.87755102,  7.06122449,  7.24489796,\n",
       "        7.42857143,  7.6122449 ,  7.79591837,  7.97959184,  8.16326531,\n",
       "        8.34693878,  8.53061224,  8.71428571,  8.89795918,  9.08163265,\n",
       "        9.26530612,  9.44897959,  9.63265306,  9.81632653, 10.        ])"
      ]
     },
     "execution_count": 10,
     "metadata": {},
     "output_type": "execute_result"
    }
   ],
   "source": [
    "#linespace --- 1 to 10 -- range define  --- 5 elements\n",
    "arr4 = np.linspace(1,10,50)\n",
    "arr4"
   ]
  },
  {
   "cell_type": "code",
   "execution_count": 12,
   "id": "6cd9cfd8",
   "metadata": {},
   "outputs": [
    {
     "data": {
      "text/plain": [
       "array([[1, 2, 4],\n",
       "       [4, 5, 6]])"
      ]
     },
     "execution_count": 12,
     "metadata": {},
     "output_type": "execute_result"
    }
   ],
   "source": [
    "##2d array -- list of lists -- matrix -- rows and columns -- \n",
    "#shape -- m x n -- m rows and n columns\n",
    "arr5 = np.array([[1,2,4],[4,5,6]])\n",
    "arr5"
   ]
  },
  {
   "cell_type": "code",
   "execution_count": 15,
   "id": "e27a0322",
   "metadata": {},
   "outputs": [
    {
     "data": {
      "text/plain": [
       "array([[ 1,  2,  3,  4,  5],\n",
       "       [ 6,  7,  8,  9, 10],\n",
       "       [11, 12, 13, 14, 15],\n",
       "       [16, 17, 18, 19, 20],\n",
       "       [21, 22, 23, 24, 25],\n",
       "       [26, 27, 28, 29, 30]])"
      ]
     },
     "execution_count": 15,
     "metadata": {},
     "output_type": "execute_result"
    }
   ],
   "source": [
    "## 1d --> 2d -- reshape -- shape change \n",
    "arr6 = np.arange(1,31).reshape(6,5)\n",
    "arr6"
   ]
  },
  {
   "cell_type": "code",
   "execution_count": 29,
   "id": "5a7c76be",
   "metadata": {},
   "outputs": [
    {
     "data": {
      "text/plain": [
       "dtype('float64')"
      ]
     },
     "execution_count": 29,
     "metadata": {},
     "output_type": "execute_result"
    }
   ],
   "source": [
    "##random module -- random numbers generation \n",
    "# arr7 = np.random.randint(1,100,10)\n",
    "# arr7 = np.random.randint(1,100,(2,3))\n",
    "arr7 = np.random.random(10)\n",
    "arr7.dtype"
   ]
  },
  {
   "cell_type": "code",
   "execution_count": 27,
   "id": "3255488f",
   "metadata": {},
   "outputs": [
    {
     "data": {
      "text/plain": [
       "2"
      ]
     },
     "execution_count": 27,
     "metadata": {},
     "output_type": "execute_result"
    }
   ],
   "source": [
    "## 2d array -- 60 elements \n",
    "arr8 = np.arange(1,61).reshape(6,10)\n",
    "arr8.shape \n",
    "arr8.size\n",
    "arr8.dtype\n",
    "arr8.ndim"
   ]
  },
  {
   "cell_type": "code",
   "execution_count": 30,
   "id": "e1b69fec",
   "metadata": {},
   "outputs": [
    {
     "data": {
      "text/plain": [
       "array([ 1,  2,  3,  4,  5,  6,  7,  8,  9, 10, 11, 12, 13, 14, 15, 16, 17,\n",
       "       18, 19, 20, 21, 22, 23, 24, 25, 26, 27, 28, 29, 30, 31, 32, 33, 34,\n",
       "       35, 36, 37, 38, 39, 40, 41, 42, 43, 44, 45, 46, 47, 48, 49, 50, 51,\n",
       "       52, 53, 54, 55, 56, 57, 58, 59, 60])"
      ]
     },
     "execution_count": 30,
     "metadata": {},
     "output_type": "execute_result"
    }
   ],
   "source": [
    "##nd array convert to 1d array \n",
    "arr8.ravel()\n",
    "arr8.flatten()"
   ]
  },
  {
   "cell_type": "code",
   "execution_count": 33,
   "id": "a3bc9789",
   "metadata": {},
   "outputs": [
    {
     "name": "stdout",
     "output_type": "stream",
     "text": [
      "(6, 10)\n"
     ]
    },
    {
     "data": {
      "text/plain": [
       "(10, 6)"
      ]
     },
     "execution_count": 33,
     "metadata": {},
     "output_type": "execute_result"
    }
   ],
   "source": [
    "##transpose --- array shape reverse-- -\n",
    "##(2,4) -- (4,2)\n",
    "print(arr8.shape)\n",
    "arr8.T.shape"
   ]
  },
  {
   "cell_type": "code",
   "execution_count": 40,
   "id": "447f761f",
   "metadata": {},
   "outputs": [
    {
     "data": {
      "text/plain": [
       "array([4])"
      ]
     },
     "execution_count": 40,
     "metadata": {},
     "output_type": "execute_result"
    }
   ],
   "source": [
    "##accessing elemnts from array \n",
    "##1d  -- single list \n",
    "arr2 = np.arange(1,10)\n",
    "##siling  -- multiple elements access \n",
    "#[start : end : step]\n",
    "arr2[3:4]\n"
   ]
  },
  {
   "cell_type": "code",
   "execution_count": 42,
   "id": "26246e8d",
   "metadata": {},
   "outputs": [
    {
     "data": {
      "text/plain": [
       "array([[ 1,  2,  3,  4,  5],\n",
       "       [ 6,  7,  8,  9, 10],\n",
       "       [11, 12, 13, 14, 15],\n",
       "       [16, 17, 18, 19, 20],\n",
       "       [21, 22, 23, 24, 25],\n",
       "       [26, 27, 28, 29, 30]])"
      ]
     },
     "execution_count": 42,
     "metadata": {},
     "output_type": "execute_result"
    }
   ],
   "source": [
    "##2d array -- [row start :row end:row skip , column start : column end : column skip]\n",
    "arr6 = np.arange(1,31).reshape(6,5)\n",
    "arr6"
   ]
  },
  {
   "cell_type": "code",
   "execution_count": 48,
   "id": "214f3694",
   "metadata": {},
   "outputs": [
    {
     "data": {
      "text/plain": [
       "8"
      ]
     },
     "execution_count": 48,
     "metadata": {},
     "output_type": "execute_result"
    }
   ],
   "source": [
    "arr6[1:2,2:3][0][0]"
   ]
  },
  {
   "cell_type": "code",
   "execution_count": null,
   "id": "cafa215d",
   "metadata": {},
   "outputs": [
    {
     "data": {
      "text/plain": [
       "array([[[ 1,  2,  3,  4,  5],\n",
       "        [ 6,  7,  8,  9, 10],\n",
       "        [11, 12, 13, 14, 15]],\n",
       "\n",
       "       [[16, 17, 18, 19, 20],\n",
       "        [21, 22, 23, 24, 25],\n",
       "        [26, 27, 28, 29, 30]]])"
      ]
     },
     "execution_count": 49,
     "metadata": {},
     "output_type": "execute_result"
    }
   ],
   "source": [
    "#3d array (table , row ,col)\n",
    "arr6 = np.arange(1,31).reshape(2,3,5)\n",
    "arr6\n"
   ]
  },
  {
   "cell_type": "code",
   "execution_count": 50,
   "id": "39bee071",
   "metadata": {},
   "outputs": [
    {
     "data": {
      "text/plain": [
       "array([[[6, 1, 9, 6],\n",
       "        [2, 9, 6, 8],\n",
       "        [5, 5, 4, 3]],\n",
       "\n",
       "       [[2, 2, 8, 7],\n",
       "        [1, 6, 6, 2],\n",
       "        [9, 1, 3, 8]]])"
      ]
     },
     "execution_count": 50,
     "metadata": {},
     "output_type": "execute_result"
    }
   ],
   "source": [
    "arr7 = np.random.randint(1,10,(2,3,4))\n",
    "arr7"
   ]
  },
  {
   "cell_type": "code",
   "execution_count": null,
   "id": "b9b080f6",
   "metadata": {},
   "outputs": [
    {
     "name": "stdout",
     "output_type": "stream",
     "text": [
      "[ 5  7  9 11 13 15]\n",
      "[-3 -3 -3 -3 -3 -3]\n",
      "[ 4 10 18 28 40 54]\n",
      "[0.25       0.4        0.5        0.57142857 0.625      0.66666667]\n",
      "[1 2 3 4 5 6]\n",
      "[0 0 0 0 0 0]\n",
      "[       1       32      729    16384   390625 10077696]\n",
      "[False False False False False False]\n",
      "[ True  True  True  True  True  True]\n",
      "[False False False False False False]\n",
      "[ True  True  True  True  True  True]\n",
      "[False False False False False False]\n",
      "[ True  True  True  True  True  True]\n"
     ]
    }
   ],
   "source": [
    "##MATHEMATIC OPERATIONS\n",
    "##note -- both array should be of same shape \n",
    "arr1 = np.array([1,2,3,4,5,6])\n",
    "arr2 = np.array([4,5,6,7,8,9])\n",
    "\n",
    "print(arr1 + arr2)\n",
    "print(arr1 - arr2)\n",
    "print(arr1 * arr2)\n",
    "print(arr1 / arr2)\n",
    "print(arr1 % arr2)\n",
    "print(arr1 // arr2)\n",
    "print(arr1 ** arr2)\n",
    "print(arr1 > arr2)\n",
    "print(arr1 < arr2)\n",
    "print(arr1 == arr2)\n",
    "print(arr1 != arr2)\n",
    "print(arr1 >= arr2)\n",
    "print(arr1 <= arr2)"
   ]
  },
  {
   "cell_type": "code",
   "execution_count": null,
   "id": "bbadddb6",
   "metadata": {},
   "outputs": [],
   "source": []
  }
 ],
 "metadata": {
  "kernelspec": {
   "display_name": "Python 3",
   "language": "python",
   "name": "python3"
  },
  "language_info": {
   "codemirror_mode": {
    "name": "ipython",
    "version": 3
   },
   "file_extension": ".py",
   "mimetype": "text/x-python",
   "name": "python",
   "nbconvert_exporter": "python",
   "pygments_lexer": "ipython3",
   "version": "3.11.9"
  }
 },
 "nbformat": 4,
 "nbformat_minor": 5
}
