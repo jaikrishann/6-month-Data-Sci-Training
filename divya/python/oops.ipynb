{
 "cells": [
  {
   "cell_type": "code",
   "execution_count": null,
   "metadata": {},
   "outputs": [],
   "source": [
    "##class -- blueprint of objects ,,, class is a template for creating objects ,,, class real world entitiy se juda hua kuch hoga \n",
    "##object -- real world entity ,,, object is an instance of a class ,,, object is a real world entity"
   ]
  },
  {
   "cell_type": "code",
   "execution_count": 11,
   "metadata": {},
   "outputs": [
    {
     "name": "stdout",
     "output_type": "stream",
     "text": [
      "my car model is bmw\n",
      "my car color is red\n",
      "my car price is 1000000\n"
     ]
    }
   ],
   "source": [
    "class car:\n",
    "    #class variables or class attributes\n",
    "    name = \"bmw\"\n",
    "    color = \"black\"\n",
    "    price = 1000000\n",
    "\n",
    "    ##method \n",
    "    def display(self):\n",
    "        print(\"my car model is\", self.name)                          \n",
    "        print(\"my car color is\", self.color)\n",
    "        print(\"my car price is\", self.price)\n",
    "\n",
    "##\n",
    "obj=car()\n",
    "# obj.name\n",
    "obj.color = \"red\"\n",
    "obj.display()\n",
    "\n"
   ]
  },
  {
   "cell_type": "code",
   "execution_count": 9,
   "metadata": {},
   "outputs": [
    {
     "name": "stdout",
     "output_type": "stream",
     "text": [
      "[1, 'hello', 3]\n"
     ]
    }
   ],
   "source": [
    "lst = [1,2,3]\n",
    "lst[1] = \"hello\"\n",
    "print(lst)\n"
   ]
  },
  {
   "cell_type": "code",
   "execution_count": 19,
   "metadata": {},
   "outputs": [
    {
     "name": "stdout",
     "output_type": "stream",
     "text": [
      "my car model is maruti\n",
      "my car color is red\n",
      "my car price is 1000000\n",
      "my car model is bmw\n",
      "my car color is black\n",
      "my car price is 1000000\n"
     ]
    }
   ],
   "source": [
    "class Car:\n",
    "    ##__init__ is a constructor ,,, variables ko initialize krne k liye use hota hai\n",
    "    def __init__(self, name, color, price):\n",
    "        self.name = name\n",
    "        self.color = color\n",
    "        self.price = price\n",
    "\n",
    "    def display(self):\n",
    "        print(\"my car model is\", self.name)\n",
    "        print(\"my car color is\", self.color)\n",
    "        print(\"my car price is\", self.price)\n",
    "\n",
    "\n",
    "obj = Car(\"maruti\", \"red\", 1000000)\n",
    "obj.display()\n",
    "\n",
    "\n",
    "obj1=Car(\"bmw\",\"black\",1000000)\n",
    "obj1.display()\n",
    "        "
   ]
  },
  {
   "cell_type": "code",
   "execution_count": null,
   "metadata": {},
   "outputs": [],
   "source": [
    "##inhertance\n",
    "##polymorphism\n",
    "##encapsulation\n",
    "##abstraction"
   ]
  },
  {
   "cell_type": "code",
   "execution_count": null,
   "metadata": {},
   "outputs": [],
   "source": [
    "## inhertance -- ek class ki prop aur methods ko access kar sakte ho dusri class me \n",
    "##inheritance is a way to reuse the properties and methods of a parent class in a child class"
   ]
  },
  {
   "cell_type": "code",
   "execution_count": null,
   "metadata": {},
   "outputs": [],
   "source": [
    "##types of inhertance\n",
    "##1. single inheritance\n",
    "##2. multiple inheritance\n",
    "##3. multilevel inheritance\n",
    "##4. hierarchical inheritance   \n",
    "##5. hybrid inheritance"
   ]
  },
  {
   "cell_type": "code",
   "execution_count": 7,
   "metadata": {},
   "outputs": [
    {
     "data": {
      "text/plain": [
       "12213212"
      ]
     },
     "execution_count": 7,
     "metadata": {},
     "output_type": "execute_result"
    }
   ],
   "source": [
    "##single inheritance --- A child class inherits from one parent class.\n",
    "class Person:\n",
    "    def __init__(self, name):\n",
    "        self.name = name\n",
    "\n",
    "##super - it is used to access the parent class methods and properties\n",
    "class Employee(Person):\n",
    "    def __init__(self,name,salary):\n",
    "        super().__init__(name)\n",
    "        self.salary = salary\n",
    "    \n",
    "obj=Employee(\"xyz\",12213212)\n",
    "obj.name\n",
    "obj.salary\n",
    "\n",
    "    "
   ]
  },
  {
   "cell_type": "code",
   "execution_count": 11,
   "metadata": {},
   "outputs": [
    {
     "name": "stdout",
     "output_type": "stream",
     "text": [
      "ygsd 263766721\n"
     ]
    }
   ],
   "source": [
    "##multiple inheritance --- A child class inherits from multiple parent classes.\n",
    "class Person:\n",
    "    def __init__(self, name):\n",
    "        self.name = name\n",
    "\n",
    "##super - it is used to access the parent class methods and properties\n",
    "class Employee(Person):\n",
    "    def __init__(self,name,salary):\n",
    "        super().__init__(name)\n",
    "        self.salary = salary\n",
    "\n",
    "\n",
    "class Job:\n",
    "    def __init__(self,salary):\n",
    "        self.salary = salary\n",
    "\n",
    "class EmployeePersonJob(Employee,Job):\n",
    "    def __init__(self,name,salary):\n",
    "        Employee.__init__(self,name,salary)\n",
    "        Job.__init__(self,salary)\n",
    "\n",
    "obj=EmployeePersonJob(\"ygsd\",263766721)\n",
    "print(obj.name,obj.salary)\n"
   ]
  },
  {
   "cell_type": "code",
   "execution_count": 13,
   "metadata": {},
   "outputs": [
    {
     "name": "stdout",
     "output_type": "stream",
     "text": [
      "ygsd 263766721 it\n"
     ]
    }
   ],
   "source": [
    "##multilevel -- A --- B ---c \n",
    "# A class is derived from a class which is also derived from another class.\n",
    "class Person:\n",
    "    def __init__(self, name):\n",
    "        self.name = name\n",
    "\n",
    "##super - it is used to access the parent class methods and properties\n",
    "class Employee(Person):\n",
    "    def __init__(self,name,salary):\n",
    "        super().__init__(name)\n",
    "        self.salary = salary\n",
    "\n",
    "\n",
    "class Job:\n",
    "    def __init__(self,salary):\n",
    "        self.salary = salary\n",
    "\n",
    "class EmployeePersonJob(Employee,Job):\n",
    "    def __init__(self,name,salary):\n",
    "        Employee.__init__(self,name,salary)\n",
    "        Job.__init__(self,salary)\n",
    "\n",
    "class Manager(EmployeePersonJob):\n",
    "    def __init__(self,name,salary,department):\n",
    "        EmployeePersonJob.__init__(self,name,salary)\n",
    "        self.department = department\n",
    "\n",
    "obj=Manager(\"ygsd\",263766721,\"it\")\n",
    "print(obj.name,obj.salary,obj.department)"
   ]
  },
  {
   "cell_type": "code",
   "execution_count": 15,
   "metadata": {},
   "outputs": [],
   "source": [
    "##heirarchical -- multiple classes inherit from a single class\n",
    "class Person:\n",
    "    def __init__(self, name):\n",
    "        self.name = name\n",
    "\n",
    "##super - it is used to access the parent class methods and properties\n",
    "class Employee(Person):\n",
    "    def __init__(self,name,salary):\n",
    "        super().__init__(name)\n",
    "        self.salary = salary\n",
    "\n",
    "\n",
    "class Job:\n",
    "    def __init__(self,salary):\n",
    "        self.salary = salary\n",
    "\n",
    "class EmployeePersonJob(Employee,Job):\n",
    "    def __init__(self,name,salary):\n",
    "        Employee.__init__(self,name,salary)\n",
    "        Job.__init__(self,salary)\n",
    "\n",
    "class Manager(EmployeePersonJob):\n",
    "    def __init__(self,name,salary,department):\n",
    "        EmployeePersonJob.__init__(self,name,salary)\n",
    "        self.department = department\n",
    "\n",
    "class AssitantManager(EmployeePersonJob):\n",
    "    def __init__(self,name,salary,team_size):\n",
    "        EmployeePersonJob.__init__(self,name,salary)\n",
    "        self.team_size = team_size\n",
    "\n",
    "class SeniorManager(Manager,AssitantManager):\n",
    "    def __init__(self,name,salary,department,team_size):\n",
    "        Manager.__init__(self,name,salary,department)\n",
    "        AssitantManager.__init__(self,name,salary,team_size)"
   ]
  },
  {
   "cell_type": "code",
   "execution_count": null,
   "metadata": {},
   "outputs": [],
   "source": [
    "##hybrid -- combination of multiple inheritance and multilevel inheritance"
   ]
  },
  {
   "cell_type": "code",
   "execution_count": null,
   "metadata": {},
   "outputs": [
    {
     "name": "stdout",
     "output_type": "stream",
     "text": [
      "Meow\n",
      "Bark\n"
     ]
    }
   ],
   "source": [
    "# Polymorphism\n",
    "# Different classes can have methods with the same name but different implementations.\n",
    "\n",
    "class Cat:\n",
    "    def speak(self):\n",
    "        return \"Meow\"\n",
    "\n",
    "class Dog:\n",
    "    def speak(self):\n",
    "        return \"Bark\"\n",
    "\n",
    "def animal_sound(animal):\n",
    "    print(animal.speak())\n",
    "\n",
    "cat = Cat()\n",
    "dog = Dog()\n",
    "animal_sound(cat)  # Output: Meow\n",
    "animal_sound(dog)  # Output: Bark\n"
   ]
  },
  {
   "cell_type": "code",
   "execution_count": 9,
   "metadata": {},
   "outputs": [
    {
     "name": "stdout",
     "output_type": "stream",
     "text": [
      "Area: 50\n",
      "Perimeter: 30\n"
     ]
    }
   ],
   "source": [
    "##abstraction -- hide the implementation details and show only the necessary information to the user\n",
    "\n",
    "from abc import ABC, abstractmethod\n",
    "\n",
    "class shape(ABC):   ##abstract class\n",
    "    @abstractmethod\n",
    "    def area(self):\n",
    "        pass\n",
    "\n",
    "\n",
    "    @abstractmethod\n",
    "    def perimeter(self):\n",
    "        pass\n",
    "\n",
    "\n",
    "class rectangle(shape):\n",
    "    def __init__(self, length, width):\n",
    "        self.length = length\n",
    "        self.width = width\n",
    "\n",
    "    def area(self):\n",
    "        return self.length * self.width\n",
    "\n",
    "    def perimeter(self):\n",
    "        return 2 * (self.length + self.width)\n",
    "\n",
    "\n",
    "rect = rectangle(10, 5)\n",
    "print(\"Area:\", rect.area())         \n",
    "print(\"Perimeter:\", rect.perimeter())"
   ]
  },
  {
   "cell_type": "code",
   "execution_count": 14,
   "metadata": {},
   "outputs": [
    {
     "name": "stdout",
     "output_type": "stream",
     "text": [
      "1500\n"
     ]
    }
   ],
   "source": [
    "##encapsulation -- Wrapping data and methods into a single unit (class).\n",
    "#Using private (__) and protected (_) attributes. , public methods\n",
    "#Private members cannot be accessed directly outside the class\n",
    "#Protected members can be accessed outside the class,\n",
    "#  but it's a convention to not modify them directly.\n",
    "\n",
    "\n",
    "class Bankaccount:\n",
    "    def __init__(self, balance):\n",
    "        self.__balance = balance\n",
    "\n",
    "    def deposit(self, amount):\n",
    "        self.__balance += amount\n",
    "\n",
    "    def get_balance(self):\n",
    "        return self.__balance\n",
    "\n",
    "\n",
    "account = Bankaccount(1000)\n",
    "account.deposit(500)\n",
    "print(account.get_balance())\n",
    "\n",
    "# account.deposit(200)"
   ]
  },
  {
   "cell_type": "code",
   "execution_count": null,
   "metadata": {},
   "outputs": [],
   "source": []
  }
 ],
 "metadata": {
  "kernelspec": {
   "display_name": "Python 3",
   "language": "python",
   "name": "python3"
  },
  "language_info": {
   "codemirror_mode": {
    "name": "ipython",
    "version": 3
   },
   "file_extension": ".py",
   "mimetype": "text/x-python",
   "name": "python",
   "nbconvert_exporter": "python",
   "pygments_lexer": "ipython3",
   "version": "3.11.9"
  }
 },
 "nbformat": 4,
 "nbformat_minor": 2
}
